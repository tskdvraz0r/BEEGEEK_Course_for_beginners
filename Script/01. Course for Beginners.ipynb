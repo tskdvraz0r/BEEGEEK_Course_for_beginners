{
 "cells": [
  {
   "cell_type": "markdown",
   "source": [
    "# 1. Общая информация о курсе"
   ],
   "metadata": {
    "collapsed": false
   }
  },
  {
   "cell_type": "markdown",
   "source": [
    "## 1.1 Общая информация о курсе"
   ],
   "metadata": {
    "collapsed": false
   }
  },
  {
   "cell_type": "code",
   "execution_count": null,
   "outputs": [],
   "source": [
    "from typing import Tuple, List\n",
    "\n",
    "pass"
   ],
   "metadata": {
    "collapsed": false
   }
  },
  {
   "cell_type": "markdown",
   "source": [
    "## 1.2 Как проходить курс?"
   ],
   "metadata": {
    "collapsed": false
   }
  },
  {
   "cell_type": "code",
   "execution_count": null,
   "outputs": [],
   "source": [
    "pass"
   ],
   "metadata": {
    "collapsed": false
   }
  },
  {
   "cell_type": "markdown",
   "source": [
    "# 2. Ввод-вывод данных"
   ],
   "metadata": {
    "collapsed": false
   }
  },
  {
   "cell_type": "markdown",
   "source": [
    "## 2.1 Введение. Знакомство с Python"
   ],
   "metadata": {
    "collapsed": false
   }
  },
  {
   "cell_type": "code",
   "execution_count": null,
   "outputs": [],
   "source": [
    "pass"
   ],
   "metadata": {
    "collapsed": false
   }
  },
  {
   "cell_type": "markdown",
   "source": [
    "## 2.2 Команды print и input"
   ],
   "metadata": {
    "collapsed": false
   }
  },
  {
   "cell_type": "code",
   "execution_count": null,
   "outputs": [],
   "source": [
    "import os\n",
    "\n",
    "os.getcwd()"
   ],
   "metadata": {
    "collapsed": false
   }
  },
  {
   "cell_type": "code",
   "execution_count": null,
   "outputs": [],
   "source": [
    "# 15.05.2023\n",
    "# Step 4\n",
    "\n",
    "# Function\n",
    "def hello_world() -> str:\n",
    "    return \"Здравствуй, мир!\"\n",
    "\n",
    "# Tests\n",
    "def test_hello_world() -> None:\n",
    "    assert hello_world() == \"Здравствуй, мир!\"\n",
    "\n",
    "# Main Program\n",
    "if __name__ == \"__main__\":\n",
    "    test_hello_world()\n",
    "\n",
    "    print(hello_world())"
   ],
   "metadata": {
    "collapsed": false
   }
  },
  {
   "cell_type": "code",
   "execution_count": null,
   "outputs": [],
   "source": [
    "# 16.05.2023\n",
    "# Step 5\n",
    "\n",
    "# Function\n",
    "def lucky_sequence_1() -> tuple[int, int, int, int, int, int]:\n",
    "    return 4, 8, 15, 16, 23, 42\n",
    "\n",
    "# Tests\n",
    "def test_lucky_sequence_1() -> None:\n",
    "    assert lucky_sequence_1() == (4, 8, 15, 16, 23, 42)\n",
    "\n",
    "# Main Program\n",
    "\n",
    "if __name__ == '__main__':\n",
    "    test_lucky_sequence_1()\n",
    "\n",
    "    print(*lucky_sequence_1())"
   ],
   "metadata": {
    "collapsed": false
   }
  },
  {
   "cell_type": "code",
   "execution_count": null,
   "outputs": [],
   "source": [
    "# 16.05.2023\n",
    "# Step 6\n",
    "\n",
    "# Function\n",
    "def lucky_sequence_1() -> tuple[int, int, int, int, int, int]:\n",
    "    return 4, 8, 15, 16, 23, 42\n",
    "\n",
    "# Tests\n",
    "def test_lucky_sequence_1() -> None:\n",
    "    assert lucky_sequence_1() == (4, 8, 15, 16, 23, 42)\n",
    "\n",
    "# Main Program\n",
    "if __name__ == '__main__':\n",
    "    test_lucky_sequence_1()\n",
    "\n",
    "    print(\n",
    "        *lucky_sequence_1(),\n",
    "        sep = \"\\n\"\n",
    "    )"
   ],
   "metadata": {
    "collapsed": false
   }
  },
  {
   "cell_type": "code",
   "execution_count": null,
   "outputs": [],
   "source": [
    "# 16.05.2023\n",
    "# Step 7\n",
    "\n",
    "# Function\n",
    "def star_triangle() -> list[str]:\n",
    "    return [\"*\" * i for i in range(1, 8)]\n",
    "\n",
    "# Tests\n",
    "def test_star_triangle() -> None:\n",
    "    assert star_triangle() == ['*', '**', '***', '****', '*****', '******', '*******']\n",
    "\n",
    "# Main Program\n",
    "if __name__ == '__main__':\n",
    "    test_star_triangle()\n",
    "\n",
    "    print(\n",
    "        *star_triangle(),\n",
    "        sep = \"\\n\"\n",
    "    )"
   ],
   "metadata": {
    "collapsed": false
   }
  },
  {
   "cell_type": "code",
   "execution_count": 1,
   "outputs": [
    {
     "name": "stdout",
     "output_type": "stream",
     "text": [
      "Динамо - чемпион!\n"
     ]
    }
   ],
   "source": [
    "# 16.05.2023\n",
    "# Step 11\n",
    "\n",
    "# Function\n",
    "def greetings(name: str) -> str:\n",
    "    return f\"Привет, {name}\"\n",
    "\n",
    "# Tests\n",
    "def test_greetings() -> None:\n",
    "    assert greetings(\"Тимур\") == \"Привет, Тимур\"\n",
    "    assert greetings(\"Гвидо\") == \"Привет, Гвидо\"\n",
    "    assert greetings(\"Питоняшка\") == \"Привет, Питоняшка\"\n",
    "\n",
    "# Main Program\n",
    "if __name__ == '__main__':\n",
    "    test_greetings()\n",
    "\n",
    "    print(greetings(\"Андрей\"))"
   ],
   "metadata": {
    "collapsed": false,
    "ExecuteTime": {
     "end_time": "2023-05-16T20:27:32.787967Z",
     "start_time": "2023-05-16T20:27:32.778114Z"
    }
   }
  },
  {
   "cell_type": "code",
   "execution_count": 5,
   "outputs": [
    {
     "name": "stdout",
     "output_type": "stream",
     "text": [
      "I was\n",
      "born\n",
      "this way\n"
     ]
    }
   ],
   "source": [
    "# 16.05.2023\n",
    "# Step 12\n",
    "\n",
    "# Function\n",
    "def () -> None:\n",
    "    return\n",
    "\n",
    "# Tests\n",
    "def test_() -> None:\n",
    "    assert () ==\n",
    "\n",
    "# Main Program\n",
    "if __name__ == '__main__':\n",
    "    test_()\n",
    "\n",
    "    print(())"
   ],
   "metadata": {
    "collapsed": false,
    "ExecuteTime": {
     "end_time": "2023-05-16T21:13:01.297502Z",
     "start_time": "2023-05-16T21:13:01.273082Z"
    }
   }
  },
  {
   "cell_type": "code",
   "execution_count": 8,
   "outputs": [
    {
     "name": "stdout",
     "output_type": "stream",
     "text": [
      "me\n",
      "it's\n",
      "Hello\n"
     ]
    }
   ],
   "source": [
    "# 16.05.2023\n",
    "# Step 13\n",
    "\n",
    "# Function\n",
    "def () -> None:\n",
    "    return\n",
    "\n",
    "# Tests\n",
    "def test_() -> None:\n",
    "    assert () ==\n",
    "\n",
    "# Main Program\n",
    "if __name__ == '__main__':\n",
    "    test_()\n",
    "\n",
    "    print(())"
   ],
   "metadata": {
    "collapsed": false,
    "ExecuteTime": {
     "end_time": "2023-05-16T21:18:07.907747Z",
     "start_time": "2023-05-16T21:18:07.834991Z"
    }
   }
  },
  {
   "cell_type": "code",
   "execution_count": null,
   "outputs": [],
   "source": [
    "# 16.05.2023\n",
    "# Step 14\n",
    "\n",
    "# Function\n",
    "def () -> None:\n",
    "    return\n",
    "\n",
    "# Tests\n",
    "def test_() -> None:\n",
    "    assert () ==\n",
    "\n",
    "# Main Program\n",
    "if __name__ == '__main__':\n",
    "    test_()\n",
    "\n",
    "    print(())"
   ],
   "metadata": {
    "collapsed": false
   }
  },
  {
   "cell_type": "markdown",
   "source": [
    "## 2.3 Параметры sep и end"
   ],
   "metadata": {
    "collapsed": false
   }
  },
  {
   "cell_type": "markdown",
   "source": [
    "## 2.4 Целочисленная арифметика. Часть 1"
   ],
   "metadata": {
    "collapsed": false
   }
  },
  {
   "cell_type": "markdown",
   "source": [
    "## 2.5 Целочисленная арифметика. Часть 2"
   ],
   "metadata": {
    "collapsed": false
   }
  },
  {
   "cell_type": "markdown",
   "source": [
    "# 3. Итоговая работа на ввод-вывод данных"
   ],
   "metadata": {
    "collapsed": false
   }
  },
  {
   "cell_type": "code",
   "execution_count": null,
   "outputs": [],
   "source": [
    "# 16.05.2023\n",
    "# Step\n",
    "\n",
    "# Function\n",
    "def () -> None:\n",
    "    return\n",
    "\n",
    "# Tests\n",
    "def test_() -> None:\n",
    "    assert () ==\n",
    "\n",
    "# Main Program\n",
    "if __name__ == '__main__':\n",
    "    test_()\n",
    "\n",
    "    print(())"
   ],
   "metadata": {
    "collapsed": false
   }
  },
  {
   "cell_type": "markdown",
   "source": [
    "## 3.1 Часть 1"
   ],
   "metadata": {
    "collapsed": false
   }
  },
  {
   "cell_type": "markdown",
   "source": [
    "## 3.2 Часть 2"
   ],
   "metadata": {
    "collapsed": false
   }
  },
  {
   "cell_type": "markdown",
   "source": [
    "# 4. Условный оператор"
   ],
   "metadata": {
    "collapsed": false
   }
  },
  {
   "cell_type": "markdown",
   "source": [
    "## 4.1 Выбор из двух"
   ],
   "metadata": {
    "collapsed": false
   }
  },
  {
   "cell_type": "markdown",
   "source": [
    "## 4.2 Логические операции"
   ],
   "metadata": {
    "collapsed": false
   }
  },
  {
   "cell_type": "markdown",
   "source": [
    "## 4.3 Вложенные и каскадные условия"
   ],
   "metadata": {
    "collapsed": false
   }
  },
  {
   "cell_type": "markdown",
   "source": [
    "# 5. Итоговая работа на условный оператор"
   ],
   "metadata": {
    "collapsed": false
   }
  },
  {
   "cell_type": "markdown",
   "source": [
    "## 5.1 Задачи на программирование"
   ],
   "metadata": {
    "collapsed": false
   }
  },
  {
   "cell_type": "markdown",
   "source": [
    "# 6. Типы данных"
   ],
   "metadata": {
    "collapsed": false
   }
  },
  {
   "cell_type": "markdown",
   "source": [
    "## 6.1 Числовые типы данных: int, float"
   ],
   "metadata": {
    "collapsed": false
   }
  },
  {
   "cell_type": "markdown",
   "source": [
    "## 6.2 Строковый тип данных"
   ],
   "metadata": {
    "collapsed": false
   }
  },
  {
   "cell_type": "markdown",
   "source": [
    "## 6.3 Модуль math"
   ],
   "metadata": {
    "collapsed": false
   }
  },
  {
   "cell_type": "markdown",
   "source": [
    "# 7. Циклы for и while"
   ],
   "metadata": {
    "collapsed": false
   }
  },
  {
   "cell_type": "markdown",
   "source": [
    "## 7.1 Цикл for"
   ],
   "metadata": {
    "collapsed": false
   }
  },
  {
   "cell_type": "markdown",
   "source": [
    "## 7.2 Цикл for: функция range"
   ],
   "metadata": {
    "collapsed": false
   }
  },
  {
   "cell_type": "markdown",
   "source": [
    "## 7.3 Частые сценарии"
   ],
   "metadata": {
    "collapsed": false
   }
  },
  {
   "cell_type": "markdown",
   "source": [
    "## 7.4 Цикл while"
   ],
   "metadata": {
    "collapsed": false
   }
  },
  {
   "cell_type": "markdown",
   "source": [
    "## 7.5 Цикл while: обработка цифр числа"
   ],
   "metadata": {
    "collapsed": false
   }
  },
  {
   "cell_type": "markdown",
   "source": [
    "## 7.6 break, continue и else"
   ],
   "metadata": {
    "collapsed": false
   }
  },
  {
   "cell_type": "markdown",
   "source": [
    "## 7.7 Поиск ошибок и ревью кода"
   ],
   "metadata": {
    "collapsed": false
   }
  },
  {
   "cell_type": "markdown",
   "source": [
    "## 7.8 Вложенные циклы. Часть 1"
   ],
   "metadata": {
    "collapsed": false
   }
  },
  {
   "cell_type": "markdown",
   "source": [
    "## 7.9 Вложенные циклы. Часть 2"
   ],
   "metadata": {
    "collapsed": false
   }
  },
  {
   "cell_type": "markdown",
   "source": [
    "# 8. Итоговая работа на циклы"
   ],
   "metadata": {
    "collapsed": false
   }
  },
  {
   "cell_type": "markdown",
   "source": [
    "## 8.1 Часть 1"
   ],
   "metadata": {
    "collapsed": false
   }
  },
  {
   "cell_type": "markdown",
   "source": [
    "## 8.2 Часть 2"
   ],
   "metadata": {
    "collapsed": false
   }
  },
  {
   "cell_type": "markdown",
   "source": [
    "# 9. Строковый тип данных"
   ],
   "metadata": {
    "collapsed": false
   }
  },
  {
   "cell_type": "markdown",
   "source": [
    "## 9.1 Индексация"
   ],
   "metadata": {
    "collapsed": false
   }
  },
  {
   "cell_type": "markdown",
   "source": [
    "## 9.2 Срезы"
   ],
   "metadata": {
    "collapsed": false
   }
  },
  {
   "cell_type": "markdown",
   "source": [
    "## 9.3 Методы строк. Часть 1"
   ],
   "metadata": {
    "collapsed": false
   }
  },
  {
   "cell_type": "markdown",
   "source": [
    "## 9.4 Методы строк. Часть 2"
   ],
   "metadata": {
    "collapsed": false
   }
  },
  {
   "cell_type": "markdown",
   "source": [
    "## 9.5 Методы строк. Часть 3"
   ],
   "metadata": {
    "collapsed": false
   }
  },
  {
   "cell_type": "markdown",
   "source": [
    "## 9.6 Строки в памяти компьютера, таблица символов Unicode"
   ],
   "metadata": {
    "collapsed": false
   }
  },
  {
   "cell_type": "markdown",
   "source": [
    "# 10. Итоговая работа на строки"
   ],
   "metadata": {
    "collapsed": false
   }
  },
  {
   "cell_type": "markdown",
   "source": [
    "## 10.1 Часть 1"
   ],
   "metadata": {
    "collapsed": false
   }
  },
  {
   "cell_type": "markdown",
   "source": [
    "## 10.2 Часть 2"
   ],
   "metadata": {
    "collapsed": false
   }
  },
  {
   "cell_type": "markdown",
   "source": [
    "# 11. Списки"
   ],
   "metadata": {
    "collapsed": false
   }
  },
  {
   "cell_type": "markdown",
   "source": [
    "## 11.1 Введение в списки"
   ],
   "metadata": {
    "collapsed": false
   }
  },
  {
   "cell_type": "markdown",
   "source": [
    "## 11.2 Основы работы со списками"
   ],
   "metadata": {
    "collapsed": false
   }
  },
  {
   "cell_type": "markdown",
   "source": [
    "## 11.3 Методы списков. Часть 1"
   ],
   "metadata": {
    "collapsed": false
   }
  },
  {
   "cell_type": "markdown",
   "source": [
    "## 11.4 Вывод элементов списка"
   ],
   "metadata": {
    "collapsed": false
   }
  },
  {
   "cell_type": "markdown",
   "source": [
    "## 11.5 Методы строк: split, join"
   ],
   "metadata": {
    "collapsed": false
   }
  },
  {
   "cell_type": "markdown",
   "source": [
    "## 11.6 Методы списков. Часть 2"
   ],
   "metadata": {
    "collapsed": false
   }
  },
  {
   "cell_type": "markdown",
   "source": [
    "## 11.7 Списочные выражения"
   ],
   "metadata": {
    "collapsed": false
   }
  },
  {
   "cell_type": "markdown",
   "source": [
    "## 11.8 Сортировка списков"
   ],
   "metadata": {
    "collapsed": false
   }
  },
  {
   "cell_type": "markdown",
   "source": [
    "# 12. Итоговая работа на списки"
   ],
   "metadata": {
    "collapsed": false
   }
  },
  {
   "cell_type": "markdown",
   "source": [
    "## 12.1 Часть 1"
   ],
   "metadata": {
    "collapsed": false
   }
  },
  {
   "cell_type": "markdown",
   "source": [
    "## 12.2 Часть 2"
   ],
   "metadata": {
    "collapsed": false
   }
  },
  {
   "cell_type": "markdown",
   "source": [
    "# 13. Функции"
   ],
   "metadata": {
    "collapsed": false
   }
  },
  {
   "cell_type": "markdown",
   "source": [
    "## 13.1 Функции без параметров"
   ],
   "metadata": {
    "collapsed": false
   }
  },
  {
   "cell_type": "markdown",
   "source": [
    "## 13.2 Функции с параметрами"
   ],
   "metadata": {
    "collapsed": false
   }
  },
  {
   "cell_type": "markdown",
   "source": [
    "## 13.3 Локальные и глобальные переменные"
   ],
   "metadata": {
    "collapsed": false
   }
  },
  {
   "cell_type": "markdown",
   "source": [
    "## 13.4 Функции с возвратом значения. Часть 1"
   ],
   "metadata": {
    "collapsed": false
   }
  },
  {
   "cell_type": "markdown",
   "source": [
    "## 13.5 Функции с возвратом значения. Часть 2"
   ],
   "metadata": {
    "collapsed": false
   }
  },
  {
   "cell_type": "markdown",
   "source": [
    "## 13.6 Функции с возвратом значения. Часть 3"
   ],
   "metadata": {
    "collapsed": false
   }
  },
  {
   "cell_type": "markdown",
   "source": [
    "# 14. Итоговая работа на функции"
   ],
   "metadata": {
    "collapsed": false
   }
  },
  {
   "cell_type": "markdown",
   "source": [
    "## 14.1 Задачи на программирование"
   ],
   "metadata": {
    "collapsed": false
   }
  },
  {
   "cell_type": "markdown",
   "source": [
    "# 15. Работа над мини-проектом"
   ],
   "metadata": {
    "collapsed": false
   }
  },
  {
   "cell_type": "markdown",
   "source": [
    "## 15.1 Модуль random"
   ],
   "metadata": {
    "collapsed": false
   }
  },
  {
   "cell_type": "markdown",
   "source": [
    "## 15.2 Числовая угадайка"
   ],
   "metadata": {
    "collapsed": false
   }
  },
  {
   "cell_type": "markdown",
   "source": [
    "## 15.3 Магический шар 8"
   ],
   "metadata": {
    "collapsed": false
   }
  },
  {
   "cell_type": "markdown",
   "source": [
    "## 15.4 Генератор безопасных паролей"
   ],
   "metadata": {
    "collapsed": false
   }
  },
  {
   "cell_type": "markdown",
   "source": [
    "## 15.5 Шифр Цезаря"
   ],
   "metadata": {
    "collapsed": false
   }
  },
  {
   "cell_type": "markdown",
   "source": [
    "## 15.6 Калькулятор систем счисления"
   ],
   "metadata": {
    "collapsed": false
   }
  },
  {
   "cell_type": "markdown",
   "source": [
    "## 15.7 Угадайка слов"
   ],
   "metadata": {
    "collapsed": false
   }
  },
  {
   "cell_type": "markdown",
   "source": [
    "# 16. Заключение"
   ],
   "metadata": {
    "collapsed": false
   }
  },
  {
   "cell_type": "markdown",
   "source": [
    "## 16.1 Заключительный урок"
   ],
   "metadata": {
    "collapsed": false
   }
  },
  {
   "cell_type": "markdown",
   "source": [
    "## 16.2 О команде курса"
   ],
   "metadata": {
    "collapsed": false
   }
  }
 ],
 "metadata": {
  "kernelspec": {
   "display_name": "Python 3",
   "language": "python",
   "name": "python3"
  },
  "language_info": {
   "codemirror_mode": {
    "name": "ipython",
    "version": 2
   },
   "file_extension": ".py",
   "mimetype": "text/x-python",
   "name": "python",
   "nbconvert_exporter": "python",
   "pygments_lexer": "ipython2",
   "version": "2.7.6"
  }
 },
 "nbformat": 4,
 "nbformat_minor": 0
}
