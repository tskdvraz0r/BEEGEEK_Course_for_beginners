{
 "cells": [
  {
   "cell_type": "markdown",
   "source": [
    "# 1. Общая информация о курсе"
   ],
   "metadata": {
    "collapsed": false
   }
  },
  {
   "cell_type": "markdown",
   "source": [
    "## 1.1 Общая информация о курсе"
   ],
   "metadata": {
    "collapsed": false
   }
  },
  {
   "cell_type": "code",
   "execution_count": 1,
   "outputs": [],
   "source": [
    "from typing import List, Tuple, Any\n",
    "\n",
    "pass"
   ],
   "metadata": {
    "collapsed": false,
    "ExecuteTime": {
     "end_time": "2023-05-17T19:14:26.479564Z",
     "start_time": "2023-05-17T19:14:26.473792Z"
    }
   }
  },
  {
   "cell_type": "markdown",
   "source": [
    "## 1.2 Как проходить курс?"
   ],
   "metadata": {
    "collapsed": false
   }
  },
  {
   "cell_type": "code",
   "execution_count": 2,
   "outputs": [],
   "source": [
    "pass"
   ],
   "metadata": {
    "collapsed": false,
    "ExecuteTime": {
     "end_time": "2023-05-17T19:14:26.483587Z",
     "start_time": "2023-05-17T19:14:26.480410Z"
    }
   }
  },
  {
   "cell_type": "markdown",
   "source": [
    "# 2. Ввод-вывод данных"
   ],
   "metadata": {
    "collapsed": false
   }
  },
  {
   "cell_type": "markdown",
   "source": [
    "## 2.1 Введение. Знакомство с Python"
   ],
   "metadata": {
    "collapsed": false
   }
  },
  {
   "cell_type": "code",
   "execution_count": 3,
   "outputs": [],
   "source": [
    "pass"
   ],
   "metadata": {
    "collapsed": false,
    "ExecuteTime": {
     "end_time": "2023-05-17T19:14:26.487771Z",
     "start_time": "2023-05-17T19:14:26.484011Z"
    }
   }
  },
  {
   "cell_type": "markdown",
   "source": [
    "## 2.2 Команды print и input"
   ],
   "metadata": {
    "collapsed": false
   }
  },
  {
   "cell_type": "code",
   "execution_count": 4,
   "outputs": [
    {
     "name": "stdout",
     "output_type": "stream",
     "text": [
      "Здравствуй, мир!\n"
     ]
    }
   ],
   "source": [
    "# 15.05.2023\n",
    "# Step 4\n",
    "\n",
    "# Function\n",
    "def hello_world() -> str:\n",
    "    return \"Здравствуй, мир!\"\n",
    "\n",
    "# Tests\n",
    "def test_hello_world() -> None:\n",
    "    assert hello_world() == \"Здравствуй, мир!\"\n",
    "\n",
    "# Main Program\n",
    "if __name__ == \"__main__\":\n",
    "    test_hello_world()\n",
    "\n",
    "    print(hello_world())"
   ],
   "metadata": {
    "collapsed": false,
    "ExecuteTime": {
     "end_time": "2023-05-17T19:14:26.492940Z",
     "start_time": "2023-05-17T19:14:26.489363Z"
    }
   }
  },
  {
   "cell_type": "code",
   "execution_count": 5,
   "outputs": [
    {
     "name": "stdout",
     "output_type": "stream",
     "text": [
      "4 8 15 16 23 42\n"
     ]
    }
   ],
   "source": [
    "# 16.05.2023\n",
    "# Step 5\n",
    "\n",
    "# Function\n",
    "def lucky_sequence_1() -> tuple[int, int, int, int, int, int]:\n",
    "    return 4, 8, 15, 16, 23, 42\n",
    "\n",
    "# Tests\n",
    "def test_lucky_sequence_1() -> None:\n",
    "    assert lucky_sequence_1() == (4, 8, 15, 16, 23, 42)\n",
    "\n",
    "# Main Program\n",
    "\n",
    "if __name__ == '__main__':\n",
    "    test_lucky_sequence_1()\n",
    "\n",
    "    print(*lucky_sequence_1())"
   ],
   "metadata": {
    "collapsed": false,
    "ExecuteTime": {
     "end_time": "2023-05-17T19:14:26.498857Z",
     "start_time": "2023-05-17T19:14:26.495332Z"
    }
   }
  },
  {
   "cell_type": "code",
   "execution_count": 6,
   "outputs": [
    {
     "name": "stdout",
     "output_type": "stream",
     "text": [
      "4\n",
      "8\n",
      "15\n",
      "16\n",
      "23\n",
      "42\n"
     ]
    }
   ],
   "source": [
    "# 16.05.2023\n",
    "# Step 6\n",
    "\n",
    "# Function\n",
    "def lucky_sequence_1() -> tuple[int, int, int, int, int, int]:\n",
    "    return 4, 8, 15, 16, 23, 42\n",
    "\n",
    "# Tests\n",
    "def test_lucky_sequence_1() -> None:\n",
    "    assert lucky_sequence_1() == (4, 8, 15, 16, 23, 42)\n",
    "\n",
    "# Main Program\n",
    "if __name__ == '__main__':\n",
    "    test_lucky_sequence_1()\n",
    "\n",
    "    print(\n",
    "        *lucky_sequence_1(),\n",
    "        sep = \"\\n\"\n",
    "    )"
   ],
   "metadata": {
    "collapsed": false,
    "ExecuteTime": {
     "end_time": "2023-05-17T19:14:26.543542Z",
     "start_time": "2023-05-17T19:14:26.499810Z"
    }
   }
  },
  {
   "cell_type": "code",
   "execution_count": 7,
   "outputs": [
    {
     "name": "stdout",
     "output_type": "stream",
     "text": [
      "*\n",
      "**\n",
      "***\n",
      "****\n",
      "*****\n",
      "******\n",
      "*******\n"
     ]
    }
   ],
   "source": [
    "# 16.05.2023\n",
    "# Step 7\n",
    "\n",
    "# Function\n",
    "def star_triangle() -> list[str]:\n",
    "    return [\"*\" * i for i in range(1, 8)]\n",
    "\n",
    "# Tests\n",
    "def test_star_triangle() -> None:\n",
    "    assert star_triangle() == ['*', '**', '***', '****', '*****', '******', '*******']\n",
    "\n",
    "# Main Program\n",
    "if __name__ == '__main__':\n",
    "    test_star_triangle()\n",
    "\n",
    "    print(\n",
    "        *star_triangle(),\n",
    "        sep = \"\\n\"\n",
    "    )"
   ],
   "metadata": {
    "collapsed": false,
    "ExecuteTime": {
     "end_time": "2023-05-17T19:14:26.543973Z",
     "start_time": "2023-05-17T19:14:26.504214Z"
    }
   }
  },
  {
   "cell_type": "code",
   "execution_count": 8,
   "outputs": [
    {
     "name": "stdout",
     "output_type": "stream",
     "text": [
      "Привет, Андрей\n"
     ]
    }
   ],
   "source": [
    "# 16.05.2023\n",
    "# Step 11\n",
    "\n",
    "# Function\n",
    "def greetings(name: str) -> str:\n",
    "    return f\"Привет, {name}\"\n",
    "\n",
    "# Tests\n",
    "def test_greetings() -> None:\n",
    "    assert greetings(\"Тимур\") == \"Привет, Тимур\"\n",
    "    assert greetings(\"Гвидо\") == \"Привет, Гвидо\"\n",
    "    assert greetings(\"Питоняшка\") == \"Привет, Питоняшка\"\n",
    "\n",
    "# Main Program\n",
    "if __name__ == '__main__':\n",
    "    test_greetings()\n",
    "\n",
    "    print(greetings(\"Андрей\"))"
   ],
   "metadata": {
    "collapsed": false,
    "ExecuteTime": {
     "end_time": "2023-05-17T19:14:26.544113Z",
     "start_time": "2023-05-17T19:14:26.507891Z"
    }
   }
  },
  {
   "cell_type": "code",
   "execution_count": 9,
   "outputs": [
    {
     "name": "stdout",
     "output_type": "stream",
     "text": [
      "Динамо - чемпион!\n"
     ]
    }
   ],
   "source": [
    "# 16.05.2023\n",
    "# Step 12\n",
    "\n",
    "# Function\n",
    "def favorite_team(team_name: str) -> str:\n",
    "    return f\"{team_name} - чемпион!\"\n",
    "\n",
    "# Tests\n",
    "def test_favorite_team() -> None:\n",
    "    assert favorite_team(\"ЦСКА\") == \"ЦСКА - чемпион!\"\n",
    "    assert favorite_team(\"Локомотив\") == \"Локомотив - чемпион!\"\n",
    "    assert favorite_team(\"Зенит\") == \"Зенит - чемпион!\"\n",
    "\n",
    "# Main Program\n",
    "if __name__ == '__main__':\n",
    "    test_favorite_team()\n",
    "\n",
    "    print(favorite_team(\"Динамо\"))"
   ],
   "metadata": {
    "collapsed": false,
    "ExecuteTime": {
     "end_time": "2023-05-17T19:14:26.545007Z",
     "start_time": "2023-05-17T19:14:26.511783Z"
    }
   }
  },
  {
   "cell_type": "code",
   "execution_count": 10,
   "outputs": [
    {
     "name": "stdout",
     "output_type": "stream",
     "text": [
      "I love\n",
      "Python\n",
      "so much\n"
     ]
    }
   ],
   "source": [
    "# 16.05.2023\n",
    "# Step 13\n",
    "\n",
    "import sys\n",
    "\n",
    "# Function\n",
    "def repeat_after_me(list_words: list[str]) -> list[str]:\n",
    "    return [word.replace(\"\\n\", \"\") for word in list_words]\n",
    "\n",
    "# Tests\n",
    "def test_repeat_after_me() -> None:\n",
    "    assert repeat_after_me([\"I love\", \"Python\", \"so much\"]) == [\"I love\", \"Python\", \"so much\"]\n",
    "    assert repeat_after_me([\"I used\", \"sys.stdin\", \"for this function\"]) == [\"I used\", \"sys.stdin\", \"for this function\"]\n",
    "    assert repeat_after_me([\"I live\", \"in\", \"St.Petersburg\"]) == [\"I live\", \"in\", \"St.Petersburg\"]\n",
    "\n",
    "# Main Program\n",
    "if __name__ == '__main__':\n",
    "    test_repeat_after_me()\n",
    "\n",
    "    print(\n",
    "        *repeat_after_me([\"I love\", \"Python\", \"so much\"]),  # list(map(str, sys.stdin.readlines()))\n",
    "        sep = \"\\n\"\n",
    "    )"
   ],
   "metadata": {
    "collapsed": false,
    "ExecuteTime": {
     "end_time": "2023-05-17T19:14:26.545181Z",
     "start_time": "2023-05-17T19:14:26.515317Z"
    }
   }
  },
  {
   "cell_type": "code",
   "execution_count": 11,
   "outputs": [
    {
     "name": "stdout",
     "output_type": "stream",
     "text": [
      "so much\n",
      "Python\n",
      "I love\n"
     ]
    }
   ],
   "source": [
    "# 16.05.2023\n",
    "# Step 14\n",
    "\n",
    "import sys\n",
    "\n",
    "# Function\n",
    "def repeat_after_me(list_words: list[str]) -> list[str]:\n",
    "    return [word.replace(\"\\n\", \"\") for word in reversed(list_words)]\n",
    "\n",
    "# Tests\n",
    "def test_repeat_after_me() -> None:\n",
    "    assert repeat_after_me([\"I love\", \"Python\", \"so much\"]) == [\"so much\", \"Python\", \"I love\"]\n",
    "    assert repeat_after_me([\"I used\", \"sys.stdin\", \"for this func\"]) == [\"for this func\", \"sys.stdin\", \"I used\"]\n",
    "    assert repeat_after_me([\"I live\", \"in\", \"St.Petersburg\"]) == [\"St.Petersburg\", \"in\", \"I live\"]\n",
    "\n",
    "# Main Program\n",
    "if __name__ == '__main__':\n",
    "    test_repeat_after_me()\n",
    "\n",
    "    print(\n",
    "        *repeat_after_me([\"I love\", \"Python\", \"so much\"]),  # list(map(str, sys.stdin.readlines()))\n",
    "        sep = \"\\n\"\n",
    "    )"
   ],
   "metadata": {
    "collapsed": false,
    "ExecuteTime": {
     "end_time": "2023-05-17T19:14:26.545305Z",
     "start_time": "2023-05-17T19:14:26.519533Z"
    }
   }
  },
  {
   "cell_type": "markdown",
   "source": [
    "## 2.3 Параметры sep и end"
   ],
   "metadata": {
    "collapsed": false
   }
  },
  {
   "cell_type": "code",
   "execution_count": 12,
   "outputs": [
    {
     "name": "stdout",
     "output_type": "stream",
     "text": [
      "I***like***Python\n"
     ]
    }
   ],
   "source": [
    "# 17.05.2023\n",
    "# Step 5\n",
    "\n",
    "# Function\n",
    "def i_like_python() -> list[str]:\n",
    "    return [\"I\", \"like\", \"Python\"]\n",
    "\n",
    "# Tests\n",
    "def test_i_like_python() -> None:\n",
    "    assert i_like_python() == [\"I\", \"like\", \"Python\"]\n",
    "\n",
    "# Main Program\n",
    "if __name__ == '__main__':\n",
    "    test_i_like_python()\n",
    "\n",
    "    print(*i_like_python(), sep = \"***\")"
   ],
   "metadata": {
    "collapsed": false,
    "ExecuteTime": {
     "end_time": "2023-05-17T19:14:26.545468Z",
     "start_time": "2023-05-17T19:14:26.523449Z"
    }
   }
  },
  {
   "cell_type": "code",
   "execution_count": 13,
   "outputs": [
    {
     "name": "stdout",
     "output_type": "stream",
     "text": [
      "3qwerty2qwerty1\n"
     ]
    }
   ],
   "source": [
    "# 17.05.2023\n",
    "# Step 6\n",
    "\n",
    "# Function\n",
    "def custom_separator(list_words: list[str]) -> list[str]:\n",
    "    return [word.replace(\"\\n\", \"\") for word in list_words]\n",
    "\n",
    "# Tests\n",
    "def test_custom_separator() -> None:\n",
    "    assert custom_separator([\"*\", \"Раз\", \"Два\", \"Три\"]) == [\"*\", \"Раз\", \"Два\", \"Три\"]\n",
    "    assert custom_separator([\"##\", \"Money often\", \"costs\", \"too much\"]) == [\"##\", \"Money often\", \"costs\", \"too much\"]\n",
    "    assert custom_separator([\"python\", \"1\", \"2\", \"3\"]) == [\"python\", \"1\", \"2\", \"3\"]\n",
    "\n",
    "# Main Program\n",
    "if __name__ == '__main__':\n",
    "    test_custom_separator()\n",
    "\n",
    "    separator, string_1, string_2, string_3 = custom_separator([\"qwerty\", \"3\", \"2\", \"1\"])\n",
    "\n",
    "    print(\n",
    "        string_1,\n",
    "        string_2,\n",
    "        string_3,\n",
    "        sep = separator\n",
    "    )\n",
    "\n",
    "    del separator\n",
    "    del string_1\n",
    "    del string_2\n",
    "    del string_3"
   ],
   "metadata": {
    "collapsed": false,
    "ExecuteTime": {
     "end_time": "2023-05-17T19:14:26.545667Z",
     "start_time": "2023-05-17T19:14:26.527856Z"
    }
   }
  },
  {
   "cell_type": "code",
   "execution_count": 14,
   "outputs": [
    {
     "name": "stdout",
     "output_type": "stream",
     "text": [
      "Привет, Серсея!\n"
     ]
    }
   ],
   "source": [
    "# 17.05.2023\n",
    "# Step 7\n",
    "\n",
    "# Function\n",
    "def greetings(name: str) -> str:\n",
    "    return f\"Привет, {name}!\"\n",
    "\n",
    "# Tests\n",
    "def test_greetings() -> None:\n",
    "    assert greetings(\"Тирион\") == \"Привет, Тирион!\"\n",
    "    assert greetings(\"Джон\") == \"Привет, Джон!\"\n",
    "    assert greetings(\"Дейенерис\") == \"Привет, Дейенерис!\"\n",
    "\n",
    "# Main Program\n",
    "if __name__ == '__main__':\n",
    "    test_greetings()\n",
    "\n",
    "    print(greetings(\"Серсея\"))"
   ],
   "metadata": {
    "collapsed": false,
    "ExecuteTime": {
     "end_time": "2023-05-17T19:14:26.545833Z",
     "start_time": "2023-05-17T19:14:26.534019Z"
    }
   }
  },
  {
   "cell_type": "markdown",
   "source": [
    "## 2.4 Целочисленная арифметика. Часть 1"
   ],
   "metadata": {
    "collapsed": false
   }
  },
  {
   "cell_type": "code",
   "execution_count": 22,
   "outputs": [
    {
     "name": "stdout",
     "output_type": "stream",
     "text": [
      "3\n",
      "4\n",
      "5\n"
     ]
    }
   ],
   "source": [
    "# 17.05.2023\n",
    "# Step 5\n",
    "\n",
    "# Function\n",
    "def three_consecutive_numbers(number: int) -> tuple[int, int, int]:\n",
    "    assert isinstance(number, int), \"Ожидается целочисленное значение!\"\n",
    "    return number, number + 1, number + 2\n",
    "\n",
    "# Tests\n",
    "def test_three_consecutive_numbers() -> None:\n",
    "    assert three_consecutive_numbers(8) == (8, 9, 10)\n",
    "    assert three_consecutive_numbers(-341) == (-341, -340, -339)\n",
    "    assert three_consecutive_numbers(-1) == (-1, 0, 1)\n",
    "\n",
    "# Main Program\n",
    "if __name__ == '__main__':\n",
    "    test_three_consecutive_numbers()\n",
    "\n",
    "    print(*three_consecutive_numbers(3), sep = \"\\n\")"
   ],
   "metadata": {
    "collapsed": false,
    "ExecuteTime": {
     "end_time": "2023-05-17T19:50:22.859771Z",
     "start_time": "2023-05-17T19:50:22.839870Z"
    }
   }
  },
  {
   "cell_type": "code",
   "execution_count": 25,
   "outputs": [
    {
     "name": "stdout",
     "output_type": "stream",
     "text": [
      "6\n"
     ]
    }
   ],
   "source": [
    "# 17.05.2023\n",
    "# Step 6\n",
    "\n",
    "# Function\n",
    "def sum_three_numbers(list_numbers: list[int]) -> int:\n",
    "    assert isinstance(list_numbers[0], int), \"Значение должно быть целочисленным\"\n",
    "    assert isinstance(list_numbers[1], int), \"Значение должно быть целочисленным\"\n",
    "    assert isinstance(list_numbers[2], int), \"Значение должно быть целочисленным\"\n",
    "\n",
    "    return sum(list_numbers)\n",
    "\n",
    "# Tests\n",
    "def test_sum_three_numbers() -> None:\n",
    "    assert sum_three_numbers([9, 11, 2]) == 22\n",
    "    assert sum_three_numbers([-1, 10, 1]) == 10\n",
    "    assert sum_three_numbers([-7, -10, -3]) == -20\n",
    "\n",
    "# Main Program\n",
    "if __name__ == '__main__':\n",
    "    test_sum_three_numbers()\n",
    "\n",
    "    print(sum_three_numbers([1, 2, 3]))  # list(map(int, sys.stdin.readlines()))"
   ],
   "metadata": {
    "collapsed": false,
    "ExecuteTime": {
     "end_time": "2023-05-17T20:09:05.261482Z",
     "start_time": "2023-05-17T20:09:05.210299Z"
    }
   }
  },
  {
   "cell_type": "code",
   "execution_count": 26,
   "outputs": [
    {
     "name": "stdout",
     "output_type": "stream",
     "text": [
      "Объем = 27\n",
      "Площадь полной поверхности = 54\n"
     ]
    }
   ],
   "source": [
    "# 17.05.2023\n",
    "# Step 7\n",
    "\n",
    "# Function\n",
    "def cube(rib: int) -> tuple[int, int]:\n",
    "    assert isinstance(rib, int), \"Значение должно быть целочисленным\"\n",
    "\n",
    "    return rib ** 3, 6 * rib ** 2\n",
    "\n",
    "# Tests\n",
    "def test_cube() -> None:\n",
    "    assert cube(25) == (15625, 3750)\n",
    "    assert cube(13) == (2197, 1014)\n",
    "    assert cube(56) == (175616, 18816)\n",
    "\n",
    "# Main Program\n",
    "if __name__ == '__main__':\n",
    "    test_cube()\n",
    "    volume, square = cube(3)\n",
    "\n",
    "    print(\n",
    "        f\"Объем = {volume}\",\n",
    "        f\"Площадь полной поверхности = {square}\",\n",
    "        sep = \"\\n\"\n",
    "    )"
   ],
   "metadata": {
    "collapsed": false,
    "ExecuteTime": {
     "end_time": "2023-05-17T20:17:22.232564Z",
     "start_time": "2023-05-17T20:17:22.185285Z"
    }
   }
  },
  {
   "cell_type": "code",
   "execution_count": 28,
   "outputs": [
    {
     "name": "stdout",
     "output_type": "stream",
     "text": [
      "45\n"
     ]
    }
   ],
   "source": [
    "# 17.05.2023\n",
    "# Step 8\n",
    "\n",
    "# Function\n",
    "def function_value(list_numbers: list[int]) -> None:\n",
    "    assert isinstance(list_numbers[0], int), \"Значение должно быть целочисленным\"\n",
    "    assert isinstance(list_numbers[1], int), \"Значение должно быть целочисленным\"\n",
    "\n",
    "    a, b = list_numbers[0], list_numbers[1]\n",
    "\n",
    "    return 3 * (a + b) ** 3 + 275 * b ** 2 - 127 * a - 41\n",
    "\n",
    "# Tests\n",
    "def test_function_value() -> None:\n",
    "    assert function_value([1, 1]) == 131\n",
    "    assert function_value([1, 0]) == -165\n",
    "    assert function_value([0, 1]) == 237\n",
    "\n",
    "# Main Program\n",
    "if __name__ == '__main__':\n",
    "    test_function_value()\n",
    "\n",
    "    print(function_value([3, 1]))"
   ],
   "metadata": {
    "collapsed": false,
    "ExecuteTime": {
     "end_time": "2023-05-17T20:26:30.150096Z",
     "start_time": "2023-05-17T20:26:30.131412Z"
    }
   }
  },
  {
   "cell_type": "code",
   "execution_count": 31,
   "outputs": [
    {
     "name": "stdout",
     "output_type": "stream",
     "text": [
      "Следующее за числом 13 число: 14\n",
      "Для числа 13 предыдущее число: 12\n"
     ]
    }
   ],
   "source": [
    "# 17.05.2023\n",
    "# Step 9\n",
    "\n",
    "# Function\n",
    "def next_and_previous(number: int) -> tuple[int, int, int]:\n",
    "    assert isinstance(number, int), \"Значение должно быть целочисленным\"\n",
    "\n",
    "    return number, number + 1, number - 1\n",
    "\n",
    "# Tests\n",
    "def test_next_and_previous() -> None:\n",
    "    assert next_and_previous(3) == (3, 4, 2)\n",
    "    assert next_and_previous(15) == (15, 16, 14)\n",
    "    assert next_and_previous(-41) == (-41, -40, -42)\n",
    "\n",
    "# Main Program\n",
    "if __name__ == '__main__':\n",
    "    test_next_and_previous()\n",
    "    current_number, netx_number, previous_number = next_and_previous(13)\n",
    "\n",
    "    print(\n",
    "        f\"Следующее за числом {current_number} число: {netx_number}\",\n",
    "        f\"Для числа {current_number} предыдущее число: {previous_number}\",\n",
    "        sep = \"\\n\"\n",
    "    )"
   ],
   "metadata": {
    "collapsed": false,
    "ExecuteTime": {
     "end_time": "2023-05-17T20:39:28.194151Z",
     "start_time": "2023-05-17T20:39:28.170907Z"
    }
   }
  },
  {
   "cell_type": "code",
   "execution_count": 35,
   "outputs": [
    {
     "name": "stdout",
     "output_type": "stream",
     "text": [
      "12\n"
     ]
    }
   ],
   "source": [
    "# 17.05.2023\n",
    "# Step 10\n",
    "\n",
    "# Function\n",
    "def purchase_price(elements_costs: list[int]) -> int:\n",
    "    assert isinstance(elements_costs[0], int), \"Значение должно быть целочисленным\"\n",
    "    assert isinstance(elements_costs[1], int), \"Значение должно быть целочисленным\"\n",
    "    assert isinstance(elements_costs[2], int), \"Значение должно быть целочисленным\"\n",
    "    assert isinstance(elements_costs[3], int), \"Значение должно быть целочисленным\"\n",
    "\n",
    "    return sum(elements_costs) * 3\n",
    "\n",
    "# Tests\n",
    "def test_purchase_price() -> None:\n",
    "    assert purchase_price([9900, 55600, 3999, 2990]) == 217467\n",
    "    assert purchase_price([15700, 80550, 12050, 5890]) == 342570\n",
    "    assert purchase_price([44990, 123300, 19600, 8990]) == 590640\n",
    "\n",
    "# Main Program\n",
    "if __name__ == '__main__':\n",
    "    test_purchase_price()\n",
    "\n",
    "    print(purchase_price([1, 1, 1, 1]))"
   ],
   "metadata": {
    "collapsed": false,
    "ExecuteTime": {
     "end_time": "2023-05-17T20:51:16.060939Z",
     "start_time": "2023-05-17T20:51:15.996424Z"
    }
   }
  },
  {
   "cell_type": "code",
   "execution_count": null,
   "outputs": [],
   "source": [
    "# 17.05.2023\n",
    "# Step\n",
    "\n",
    "# Function\n",
    "def () -> None:\n",
    "    return\n",
    "\n",
    "# Tests\n",
    "def test_() -> None:\n",
    "    assert () ==\n",
    "\n",
    "# Main Program\n",
    "if __name__ == '__main__':\n",
    "    test_()\n",
    "\n",
    "    print(())"
   ],
   "metadata": {
    "collapsed": false
   }
  },
  {
   "cell_type": "code",
   "execution_count": null,
   "outputs": [],
   "source": [
    "# 17.05.2023\n",
    "# Step\n",
    "\n",
    "# Function\n",
    "def () -> None:\n",
    "    return\n",
    "\n",
    "# Tests\n",
    "def test_() -> None:\n",
    "    assert () ==\n",
    "\n",
    "# Main Program\n",
    "if __name__ == '__main__':\n",
    "    test_()\n",
    "\n",
    "    print(())"
   ],
   "metadata": {
    "collapsed": false
   }
  },
  {
   "cell_type": "code",
   "execution_count": null,
   "outputs": [],
   "source": [
    "# 17.05.2023\n",
    "# Step\n",
    "\n",
    "# Function\n",
    "def () -> None:\n",
    "    return\n",
    "\n",
    "# Tests\n",
    "def test_() -> None:\n",
    "    assert () ==\n",
    "\n",
    "# Main Program\n",
    "if __name__ == '__main__':\n",
    "    test_()\n",
    "\n",
    "    print(())"
   ],
   "metadata": {
    "collapsed": false
   }
  },
  {
   "cell_type": "markdown",
   "source": [
    "## 2.5 Целочисленная арифметика. Часть 2"
   ],
   "metadata": {
    "collapsed": false
   }
  },
  {
   "cell_type": "code",
   "execution_count": null,
   "outputs": [],
   "source": [
    "# 17.05.2023\n",
    "# Step\n",
    "\n",
    "# Function\n",
    "def () -> None:\n",
    "    return\n",
    "\n",
    "# Tests\n",
    "def test_() -> None:\n",
    "    assert () ==\n",
    "\n",
    "# Main Program\n",
    "if __name__ == '__main__':\n",
    "    test_()\n",
    "\n",
    "    print(())"
   ],
   "metadata": {
    "collapsed": false
   }
  },
  {
   "cell_type": "markdown",
   "source": [
    "# 3. Итоговая работа на ввод-вывод данных"
   ],
   "metadata": {
    "collapsed": false
   }
  },
  {
   "cell_type": "code",
   "execution_count": 15,
   "outputs": [
    {
     "ename": "SyntaxError",
     "evalue": "invalid syntax (1001591953.py, line 5)",
     "output_type": "error",
     "traceback": [
      "\u001B[0;36m  Cell \u001B[0;32mIn[15], line 5\u001B[0;36m\u001B[0m\n\u001B[0;31m    def () -> None:\u001B[0m\n\u001B[0m        ^\u001B[0m\n\u001B[0;31mSyntaxError\u001B[0m\u001B[0;31m:\u001B[0m invalid syntax\n"
     ]
    }
   ],
   "source": [
    "# 17.05.2023\n",
    "# Step\n",
    "\n",
    "# Function\n",
    "def () -> None:\n",
    "    return\n",
    "\n",
    "# Tests\n",
    "def test_() -> None:\n",
    "    assert () ==\n",
    "\n",
    "# Main Program\n",
    "if __name__ == '__main__':\n",
    "    test_()\n",
    "\n",
    "    print(())"
   ],
   "metadata": {
    "collapsed": false,
    "ExecuteTime": {
     "end_time": "2023-05-17T19:14:26.545957Z",
     "start_time": "2023-05-17T19:14:26.536670Z"
    }
   }
  },
  {
   "cell_type": "markdown",
   "source": [
    "## 3.1 Часть 1"
   ],
   "metadata": {
    "collapsed": false
   }
  },
  {
   "cell_type": "markdown",
   "source": [
    "## 3.2 Часть 2"
   ],
   "metadata": {
    "collapsed": false
   }
  },
  {
   "cell_type": "markdown",
   "source": [
    "# 4. Условный оператор"
   ],
   "metadata": {
    "collapsed": false
   }
  },
  {
   "cell_type": "markdown",
   "source": [
    "## 4.1 Выбор из двух"
   ],
   "metadata": {
    "collapsed": false
   }
  },
  {
   "cell_type": "markdown",
   "source": [
    "## 4.2 Логические операции"
   ],
   "metadata": {
    "collapsed": false
   }
  },
  {
   "cell_type": "markdown",
   "source": [
    "## 4.3 Вложенные и каскадные условия"
   ],
   "metadata": {
    "collapsed": false
   }
  },
  {
   "cell_type": "markdown",
   "source": [
    "# 5. Итоговая работа на условный оператор"
   ],
   "metadata": {
    "collapsed": false
   }
  },
  {
   "cell_type": "markdown",
   "source": [
    "## 5.1 Задачи на программирование"
   ],
   "metadata": {
    "collapsed": false
   }
  },
  {
   "cell_type": "markdown",
   "source": [
    "# 6. Типы данных"
   ],
   "metadata": {
    "collapsed": false
   }
  },
  {
   "cell_type": "markdown",
   "source": [
    "## 6.1 Числовые типы данных: int, float"
   ],
   "metadata": {
    "collapsed": false
   }
  },
  {
   "cell_type": "markdown",
   "source": [
    "## 6.2 Строковый тип данных"
   ],
   "metadata": {
    "collapsed": false
   }
  },
  {
   "cell_type": "markdown",
   "source": [
    "## 6.3 Модуль math"
   ],
   "metadata": {
    "collapsed": false
   }
  },
  {
   "cell_type": "markdown",
   "source": [
    "# 7. Циклы for и while"
   ],
   "metadata": {
    "collapsed": false
   }
  },
  {
   "cell_type": "markdown",
   "source": [
    "## 7.1 Цикл for"
   ],
   "metadata": {
    "collapsed": false
   }
  },
  {
   "cell_type": "markdown",
   "source": [
    "## 7.2 Цикл for: функция range"
   ],
   "metadata": {
    "collapsed": false
   }
  },
  {
   "cell_type": "markdown",
   "source": [
    "## 7.3 Частые сценарии"
   ],
   "metadata": {
    "collapsed": false
   }
  },
  {
   "cell_type": "markdown",
   "source": [
    "## 7.4 Цикл while"
   ],
   "metadata": {
    "collapsed": false
   }
  },
  {
   "cell_type": "markdown",
   "source": [
    "## 7.5 Цикл while: обработка цифр числа"
   ],
   "metadata": {
    "collapsed": false
   }
  },
  {
   "cell_type": "markdown",
   "source": [
    "## 7.6 break, continue и else"
   ],
   "metadata": {
    "collapsed": false
   }
  },
  {
   "cell_type": "markdown",
   "source": [
    "## 7.7 Поиск ошибок и ревью кода"
   ],
   "metadata": {
    "collapsed": false
   }
  },
  {
   "cell_type": "markdown",
   "source": [
    "## 7.8 Вложенные циклы. Часть 1"
   ],
   "metadata": {
    "collapsed": false
   }
  },
  {
   "cell_type": "markdown",
   "source": [
    "## 7.9 Вложенные циклы. Часть 2"
   ],
   "metadata": {
    "collapsed": false
   }
  },
  {
   "cell_type": "markdown",
   "source": [
    "# 8. Итоговая работа на циклы"
   ],
   "metadata": {
    "collapsed": false
   }
  },
  {
   "cell_type": "markdown",
   "source": [
    "## 8.1 Часть 1"
   ],
   "metadata": {
    "collapsed": false
   }
  },
  {
   "cell_type": "markdown",
   "source": [
    "## 8.2 Часть 2"
   ],
   "metadata": {
    "collapsed": false
   }
  },
  {
   "cell_type": "markdown",
   "source": [
    "# 9. Строковый тип данных"
   ],
   "metadata": {
    "collapsed": false
   }
  },
  {
   "cell_type": "markdown",
   "source": [
    "## 9.1 Индексация"
   ],
   "metadata": {
    "collapsed": false
   }
  },
  {
   "cell_type": "markdown",
   "source": [
    "## 9.2 Срезы"
   ],
   "metadata": {
    "collapsed": false
   }
  },
  {
   "cell_type": "markdown",
   "source": [
    "## 9.3 Методы строк. Часть 1"
   ],
   "metadata": {
    "collapsed": false
   }
  },
  {
   "cell_type": "markdown",
   "source": [
    "## 9.4 Методы строк. Часть 2"
   ],
   "metadata": {
    "collapsed": false
   }
  },
  {
   "cell_type": "markdown",
   "source": [
    "## 9.5 Методы строк. Часть 3"
   ],
   "metadata": {
    "collapsed": false
   }
  },
  {
   "cell_type": "markdown",
   "source": [
    "## 9.6 Строки в памяти компьютера, таблица символов Unicode"
   ],
   "metadata": {
    "collapsed": false
   }
  },
  {
   "cell_type": "markdown",
   "source": [
    "# 10. Итоговая работа на строки"
   ],
   "metadata": {
    "collapsed": false
   }
  },
  {
   "cell_type": "markdown",
   "source": [
    "## 10.1 Часть 1"
   ],
   "metadata": {
    "collapsed": false
   }
  },
  {
   "cell_type": "markdown",
   "source": [
    "## 10.2 Часть 2"
   ],
   "metadata": {
    "collapsed": false
   }
  },
  {
   "cell_type": "markdown",
   "source": [
    "# 11. Списки"
   ],
   "metadata": {
    "collapsed": false
   }
  },
  {
   "cell_type": "markdown",
   "source": [
    "## 11.1 Введение в списки"
   ],
   "metadata": {
    "collapsed": false
   }
  },
  {
   "cell_type": "markdown",
   "source": [
    "## 11.2 Основы работы со списками"
   ],
   "metadata": {
    "collapsed": false
   }
  },
  {
   "cell_type": "markdown",
   "source": [
    "## 11.3 Методы списков. Часть 1"
   ],
   "metadata": {
    "collapsed": false
   }
  },
  {
   "cell_type": "markdown",
   "source": [
    "## 11.4 Вывод элементов списка"
   ],
   "metadata": {
    "collapsed": false
   }
  },
  {
   "cell_type": "markdown",
   "source": [
    "## 11.5 Методы строк: split, join"
   ],
   "metadata": {
    "collapsed": false
   }
  },
  {
   "cell_type": "markdown",
   "source": [
    "## 11.6 Методы списков. Часть 2"
   ],
   "metadata": {
    "collapsed": false
   }
  },
  {
   "cell_type": "markdown",
   "source": [
    "## 11.7 Списочные выражения"
   ],
   "metadata": {
    "collapsed": false
   }
  },
  {
   "cell_type": "markdown",
   "source": [
    "## 11.8 Сортировка списков"
   ],
   "metadata": {
    "collapsed": false
   }
  },
  {
   "cell_type": "markdown",
   "source": [
    "# 12. Итоговая работа на списки"
   ],
   "metadata": {
    "collapsed": false
   }
  },
  {
   "cell_type": "markdown",
   "source": [
    "## 12.1 Часть 1"
   ],
   "metadata": {
    "collapsed": false
   }
  },
  {
   "cell_type": "markdown",
   "source": [
    "## 12.2 Часть 2"
   ],
   "metadata": {
    "collapsed": false
   }
  },
  {
   "cell_type": "markdown",
   "source": [
    "# 13. Функции"
   ],
   "metadata": {
    "collapsed": false
   }
  },
  {
   "cell_type": "markdown",
   "source": [
    "## 13.1 Функции без параметров"
   ],
   "metadata": {
    "collapsed": false
   }
  },
  {
   "cell_type": "markdown",
   "source": [
    "## 13.2 Функции с параметрами"
   ],
   "metadata": {
    "collapsed": false
   }
  },
  {
   "cell_type": "markdown",
   "source": [
    "## 13.3 Локальные и глобальные переменные"
   ],
   "metadata": {
    "collapsed": false
   }
  },
  {
   "cell_type": "markdown",
   "source": [
    "## 13.4 Функции с возвратом значения. Часть 1"
   ],
   "metadata": {
    "collapsed": false
   }
  },
  {
   "cell_type": "markdown",
   "source": [
    "## 13.5 Функции с возвратом значения. Часть 2"
   ],
   "metadata": {
    "collapsed": false
   }
  },
  {
   "cell_type": "markdown",
   "source": [
    "## 13.6 Функции с возвратом значения. Часть 3"
   ],
   "metadata": {
    "collapsed": false
   }
  },
  {
   "cell_type": "markdown",
   "source": [
    "# 14. Итоговая работа на функции"
   ],
   "metadata": {
    "collapsed": false
   }
  },
  {
   "cell_type": "markdown",
   "source": [
    "## 14.1 Задачи на программирование"
   ],
   "metadata": {
    "collapsed": false
   }
  },
  {
   "cell_type": "markdown",
   "source": [
    "# 15. Работа над мини-проектом"
   ],
   "metadata": {
    "collapsed": false
   }
  },
  {
   "cell_type": "markdown",
   "source": [
    "## 15.1 Модуль random"
   ],
   "metadata": {
    "collapsed": false
   }
  },
  {
   "cell_type": "markdown",
   "source": [
    "## 15.2 Числовая угадайка"
   ],
   "metadata": {
    "collapsed": false
   }
  },
  {
   "cell_type": "markdown",
   "source": [
    "## 15.3 Магический шар 8"
   ],
   "metadata": {
    "collapsed": false
   }
  },
  {
   "cell_type": "markdown",
   "source": [
    "## 15.4 Генератор безопасных паролей"
   ],
   "metadata": {
    "collapsed": false
   }
  },
  {
   "cell_type": "markdown",
   "source": [
    "## 15.5 Шифр Цезаря"
   ],
   "metadata": {
    "collapsed": false
   }
  },
  {
   "cell_type": "markdown",
   "source": [
    "## 15.6 Калькулятор систем счисления"
   ],
   "metadata": {
    "collapsed": false
   }
  },
  {
   "cell_type": "markdown",
   "source": [
    "## 15.7 Угадайка слов"
   ],
   "metadata": {
    "collapsed": false
   }
  },
  {
   "cell_type": "markdown",
   "source": [
    "# 16. Заключение"
   ],
   "metadata": {
    "collapsed": false
   }
  },
  {
   "cell_type": "markdown",
   "source": [
    "## 16.1 Заключительный урок"
   ],
   "metadata": {
    "collapsed": false
   }
  },
  {
   "cell_type": "markdown",
   "source": [
    "## 16.2 О команде курса"
   ],
   "metadata": {
    "collapsed": false
   }
  }
 ],
 "metadata": {
  "kernelspec": {
   "display_name": "Python 3",
   "language": "python",
   "name": "python3"
  },
  "language_info": {
   "codemirror_mode": {
    "name": "ipython",
    "version": 2
   },
   "file_extension": ".py",
   "mimetype": "text/x-python",
   "name": "python",
   "nbconvert_exporter": "python",
   "pygments_lexer": "ipython2",
   "version": "2.7.6"
  }
 },
 "nbformat": 4,
 "nbformat_minor": 0
}
