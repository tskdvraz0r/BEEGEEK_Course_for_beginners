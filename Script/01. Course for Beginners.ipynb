{
 "cells": [
  {
   "cell_type": "markdown",
   "source": [
    "# 1. Общая информация о курсе"
   ],
   "metadata": {
    "collapsed": false
   }
  },
  {
   "cell_type": "markdown",
   "source": [
    "## 1.1 Общая информация о курсе"
   ],
   "metadata": {
    "collapsed": false
   }
  },
  {
   "cell_type": "code",
   "execution_count": null,
   "outputs": [],
   "source": [
    "from typing import List, Tuple, Any\n",
    "\n",
    "pass"
   ],
   "metadata": {
    "collapsed": false
   }
  },
  {
   "cell_type": "markdown",
   "source": [
    "## 1.2 Как проходить курс?"
   ],
   "metadata": {
    "collapsed": false
   }
  },
  {
   "cell_type": "code",
   "execution_count": null,
   "outputs": [],
   "source": [
    "pass"
   ],
   "metadata": {
    "collapsed": false
   }
  },
  {
   "cell_type": "markdown",
   "source": [
    "# 2. Ввод-вывод данных"
   ],
   "metadata": {
    "collapsed": false
   }
  },
  {
   "cell_type": "markdown",
   "source": [
    "## 2.1 Введение. Знакомство с Python"
   ],
   "metadata": {
    "collapsed": false
   }
  },
  {
   "cell_type": "code",
   "execution_count": null,
   "outputs": [],
   "source": [
    "pass"
   ],
   "metadata": {
    "collapsed": false
   }
  },
  {
   "cell_type": "markdown",
   "source": [
    "## 2.2 Команды print и input"
   ],
   "metadata": {
    "collapsed": false
   }
  },
  {
   "cell_type": "code",
   "execution_count": null,
   "outputs": [],
   "source": [
    "# 15.05.2023\n",
    "# Step 4\n",
    "\n",
    "# Function\n",
    "def hello_world() -> str:\n",
    "    return \"Здравствуй, мир!\"\n",
    "\n",
    "# Tests\n",
    "def test_hello_world() -> None:\n",
    "    assert hello_world() == \"Здравствуй, мир!\"\n",
    "\n",
    "# Main Program\n",
    "if __name__ == \"__main__\":\n",
    "    test_hello_world()\n",
    "\n",
    "    print(hello_world())"
   ],
   "metadata": {
    "collapsed": false
   }
  },
  {
   "cell_type": "code",
   "execution_count": null,
   "outputs": [],
   "source": [
    "# 16.05.2023\n",
    "# Step 5\n",
    "\n",
    "# Function\n",
    "def lucky_sequence_1() -> tuple[int, int, int, int, int, int]:\n",
    "    return 4, 8, 15, 16, 23, 42\n",
    "\n",
    "# Tests\n",
    "def test_lucky_sequence_1() -> None:\n",
    "    assert lucky_sequence_1() == (4, 8, 15, 16, 23, 42)\n",
    "\n",
    "# Main Program\n",
    "\n",
    "if __name__ == '__main__':\n",
    "    test_lucky_sequence_1()\n",
    "\n",
    "    print(*lucky_sequence_1())"
   ],
   "metadata": {
    "collapsed": false
   }
  },
  {
   "cell_type": "code",
   "execution_count": null,
   "outputs": [],
   "source": [
    "# 16.05.2023\n",
    "# Step 6\n",
    "\n",
    "# Function\n",
    "def lucky_sequence_1() -> tuple[int, int, int, int, int, int]:\n",
    "    return 4, 8, 15, 16, 23, 42\n",
    "\n",
    "# Tests\n",
    "def test_lucky_sequence_1() -> None:\n",
    "    assert lucky_sequence_1() == (4, 8, 15, 16, 23, 42)\n",
    "\n",
    "# Main Program\n",
    "if __name__ == '__main__':\n",
    "    test_lucky_sequence_1()\n",
    "\n",
    "    print(\n",
    "        *lucky_sequence_1(),\n",
    "        sep = \"\\n\"\n",
    "    )"
   ],
   "metadata": {
    "collapsed": false
   }
  },
  {
   "cell_type": "code",
   "execution_count": null,
   "outputs": [],
   "source": [
    "# 16.05.2023\n",
    "# Step 7\n",
    "\n",
    "# Function\n",
    "def star_triangle() -> list[str]:\n",
    "    return [\"*\" * i for i in range(1, 8)]\n",
    "\n",
    "# Tests\n",
    "def test_star_triangle() -> None:\n",
    "    assert star_triangle() == ['*', '**', '***', '****', '*****', '******', '*******']\n",
    "\n",
    "# Main Program\n",
    "if __name__ == '__main__':\n",
    "    test_star_triangle()\n",
    "\n",
    "    print(\n",
    "        *star_triangle(),\n",
    "        sep = \"\\n\"\n",
    "    )"
   ],
   "metadata": {
    "collapsed": false
   }
  },
  {
   "cell_type": "code",
   "execution_count": null,
   "outputs": [],
   "source": [
    "# 16.05.2023\n",
    "# Step 11\n",
    "\n",
    "# Function\n",
    "def greetings(name: str) -> str:\n",
    "    return f\"Привет, {name}\"\n",
    "\n",
    "# Tests\n",
    "def test_greetings() -> None:\n",
    "    assert greetings(\"Тимур\") == \"Привет, Тимур\"\n",
    "    assert greetings(\"Гвидо\") == \"Привет, Гвидо\"\n",
    "    assert greetings(\"Питоняшка\") == \"Привет, Питоняшка\"\n",
    "\n",
    "# Main Program\n",
    "if __name__ == '__main__':\n",
    "    test_greetings()\n",
    "\n",
    "    print(greetings(\"Андрей\"))"
   ],
   "metadata": {
    "collapsed": false
   }
  },
  {
   "cell_type": "code",
   "execution_count": null,
   "outputs": [],
   "source": [
    "# 16.05.2023\n",
    "# Step 12\n",
    "\n",
    "# Function\n",
    "def favorite_team(team_name: str) -> str:\n",
    "    return f\"{team_name} - чемпион!\"\n",
    "\n",
    "# Tests\n",
    "def test_favorite_team() -> None:\n",
    "    assert favorite_team(\"ЦСКА\") == \"ЦСКА - чемпион!\"\n",
    "    assert favorite_team(\"Локомотив\") == \"Локомотив - чемпион!\"\n",
    "    assert favorite_team(\"Зенит\") == \"Зенит - чемпион!\"\n",
    "\n",
    "# Main Program\n",
    "if __name__ == '__main__':\n",
    "    test_favorite_team()\n",
    "\n",
    "    print(favorite_team(\"Динамо\"))"
   ],
   "metadata": {
    "collapsed": false
   }
  },
  {
   "cell_type": "code",
   "execution_count": null,
   "outputs": [],
   "source": [
    "# 16.05.2023\n",
    "# Step 13\n",
    "\n",
    "import sys\n",
    "\n",
    "# Function\n",
    "def repeat_after_me(list_words: list[str]) -> list[str]:\n",
    "    return [word.replace(\"\\n\", \"\") for word in list_words]\n",
    "\n",
    "# Tests\n",
    "def test_repeat_after_me() -> None:\n",
    "    assert repeat_after_me([\"I love\", \"Python\", \"so much\"]) == [\"I love\", \"Python\", \"so much\"]\n",
    "    assert repeat_after_me([\"I used\", \"sys.stdin\", \"for this function\"]) == [\"I used\", \"sys.stdin\", \"for this function\"]\n",
    "    assert repeat_after_me([\"I live\", \"in\", \"St.Petersburg\"]) == [\"I live\", \"in\", \"St.Petersburg\"]\n",
    "\n",
    "# Main Program\n",
    "if __name__ == '__main__':\n",
    "    test_repeat_after_me()\n",
    "\n",
    "    print(\n",
    "        *repeat_after_me([\"I love\", \"Python\", \"so much\"]),  # list(map(str, sys.stdin.readlines()))\n",
    "        sep = \"\\n\"\n",
    "    )"
   ],
   "metadata": {
    "collapsed": false
   }
  },
  {
   "cell_type": "code",
   "execution_count": null,
   "outputs": [],
   "source": [
    "# 16.05.2023\n",
    "# Step 14\n",
    "\n",
    "import sys\n",
    "\n",
    "# Function\n",
    "def repeat_after_me(list_words: list[str]) -> list[str]:\n",
    "    return [word.replace(\"\\n\", \"\") for word in reversed(list_words)]\n",
    "\n",
    "# Tests\n",
    "def test_repeat_after_me() -> None:\n",
    "    assert repeat_after_me([\"I love\", \"Python\", \"so much\"]) == [\"so much\", \"Python\", \"I love\"]\n",
    "    assert repeat_after_me([\"I used\", \"sys.stdin\", \"for this func\"]) == [\"for this func\", \"sys.stdin\", \"I used\"]\n",
    "    assert repeat_after_me([\"I live\", \"in\", \"St.Petersburg\"]) == [\"St.Petersburg\", \"in\", \"I live\"]\n",
    "\n",
    "# Main Program\n",
    "if __name__ == '__main__':\n",
    "    test_repeat_after_me()\n",
    "\n",
    "    print(\n",
    "        *repeat_after_me([\"I love\", \"Python\", \"so much\"]),  # list(map(str, sys.stdin.readlines()))\n",
    "        sep = \"\\n\"\n",
    "    )"
   ],
   "metadata": {
    "collapsed": false
   }
  },
  {
   "cell_type": "markdown",
   "source": [
    "## 2.3 Параметры sep и end"
   ],
   "metadata": {
    "collapsed": false
   }
  },
  {
   "cell_type": "code",
   "execution_count": null,
   "outputs": [],
   "source": [
    "# 17.05.2023\n",
    "# Step 5\n",
    "\n",
    "# Function\n",
    "def i_like_python() -> list[str]:\n",
    "    return [\"I\", \"like\", \"Python\"]\n",
    "\n",
    "# Tests\n",
    "def test_i_like_python() -> None:\n",
    "    assert i_like_python() == [\"I\", \"like\", \"Python\"]\n",
    "\n",
    "# Main Program\n",
    "if __name__ == '__main__':\n",
    "    test_i_like_python()\n",
    "\n",
    "    print(*i_like_python(), sep = \"***\")"
   ],
   "metadata": {
    "collapsed": false
   }
  },
  {
   "cell_type": "code",
   "execution_count": null,
   "outputs": [],
   "source": [
    "# 17.05.2023\n",
    "# Step 6\n",
    "\n",
    "# Function\n",
    "def custom_separator(list_words: list[str]) -> list[str]:\n",
    "    return [word.replace(\"\\n\", \"\") for word in list_words]\n",
    "\n",
    "# Tests\n",
    "def test_custom_separator() -> None:\n",
    "    assert custom_separator([\"*\", \"Раз\", \"Два\", \"Три\"]) == [\"*\", \"Раз\", \"Два\", \"Три\"]\n",
    "    assert custom_separator([\"##\", \"Money often\", \"costs\", \"too much\"]) == [\"##\", \"Money often\", \"costs\", \"too much\"]\n",
    "    assert custom_separator([\"python\", \"1\", \"2\", \"3\"]) == [\"python\", \"1\", \"2\", \"3\"]\n",
    "\n",
    "# Main Program\n",
    "if __name__ == '__main__':\n",
    "    test_custom_separator()\n",
    "\n",
    "    separator, string_1, string_2, string_3 = custom_separator([\"qwerty\", \"3\", \"2\", \"1\"])\n",
    "\n",
    "    print(\n",
    "        string_1,\n",
    "        string_2,\n",
    "        string_3,\n",
    "        sep = separator\n",
    "    )\n",
    "\n",
    "    del separator\n",
    "    del string_1\n",
    "    del string_2\n",
    "    del string_3"
   ],
   "metadata": {
    "collapsed": false
   }
  },
  {
   "cell_type": "code",
   "execution_count": null,
   "outputs": [],
   "source": [
    "# 17.05.2023\n",
    "# Step 7\n",
    "\n",
    "# Function\n",
    "def greetings(name: str) -> str:\n",
    "    return f\"Привет, {name}!\"\n",
    "\n",
    "# Tests\n",
    "def test_greetings() -> None:\n",
    "    assert greetings(\"Тирион\") == \"Привет, Тирион!\"\n",
    "    assert greetings(\"Джон\") == \"Привет, Джон!\"\n",
    "    assert greetings(\"Дейенерис\") == \"Привет, Дейенерис!\"\n",
    "\n",
    "# Main Program\n",
    "if __name__ == '__main__':\n",
    "    test_greetings()\n",
    "\n",
    "    print(greetings(\"Серсея\"))"
   ],
   "metadata": {
    "collapsed": false
   }
  },
  {
   "cell_type": "markdown",
   "source": [
    "## 2.4 Целочисленная арифметика. Часть 1"
   ],
   "metadata": {
    "collapsed": false
   }
  },
  {
   "cell_type": "code",
   "execution_count": null,
   "outputs": [],
   "source": [
    "# 17.05.2023\n",
    "# Step 5\n",
    "\n",
    "# Function\n",
    "def three_consecutive_numbers(number: int) -> tuple[int, int, int]:\n",
    "    assert isinstance(number, int), \"Ожидается целочисленное значение!\"\n",
    "    return number, number + 1, number + 2\n",
    "\n",
    "# Tests\n",
    "def test_three_consecutive_numbers() -> None:\n",
    "    assert three_consecutive_numbers(8) == (8, 9, 10)\n",
    "    assert three_consecutive_numbers(-341) == (-341, -340, -339)\n",
    "    assert three_consecutive_numbers(-1) == (-1, 0, 1)\n",
    "\n",
    "# Main Program\n",
    "if __name__ == '__main__':\n",
    "    test_three_consecutive_numbers()\n",
    "\n",
    "    print(*three_consecutive_numbers(3), sep = \"\\n\")"
   ],
   "metadata": {
    "collapsed": false
   }
  },
  {
   "cell_type": "code",
   "execution_count": null,
   "outputs": [],
   "source": [
    "# 17.05.2023\n",
    "# Step 6\n",
    "\n",
    "# Function\n",
    "def sum_three_numbers(list_numbers: list[int]) -> int:\n",
    "    assert isinstance(list_numbers[0], int), \"Значение должно быть целочисленным\"\n",
    "    assert isinstance(list_numbers[1], int), \"Значение должно быть целочисленным\"\n",
    "    assert isinstance(list_numbers[2], int), \"Значение должно быть целочисленным\"\n",
    "\n",
    "    return sum(list_numbers)\n",
    "\n",
    "# Tests\n",
    "def test_sum_three_numbers() -> None:\n",
    "    assert sum_three_numbers([9, 11, 2]) == 22\n",
    "    assert sum_three_numbers([-1, 10, 1]) == 10\n",
    "    assert sum_three_numbers([-7, -10, -3]) == -20\n",
    "\n",
    "# Main Program\n",
    "if __name__ == '__main__':\n",
    "    test_sum_three_numbers()\n",
    "\n",
    "    print(sum_three_numbers([1, 2, 3]))  # list(map(int, sys.stdin.readlines()))"
   ],
   "metadata": {
    "collapsed": false
   }
  },
  {
   "cell_type": "code",
   "execution_count": null,
   "outputs": [],
   "source": [
    "# 17.05.2023\n",
    "# Step 7\n",
    "\n",
    "# Function\n",
    "def cube(rib: int) -> tuple[int, int]:\n",
    "    assert isinstance(rib, int), \"Значение должно быть целочисленным\"\n",
    "\n",
    "    return rib ** 3, 6 * rib ** 2\n",
    "\n",
    "# Tests\n",
    "def test_cube() -> None:\n",
    "    assert cube(25) == (15625, 3750)\n",
    "    assert cube(13) == (2197, 1014)\n",
    "    assert cube(56) == (175616, 18816)\n",
    "\n",
    "# Main Program\n",
    "if __name__ == '__main__':\n",
    "    test_cube()\n",
    "    volume, square = cube(3)\n",
    "\n",
    "    print(\n",
    "        f\"Объем = {volume}\",\n",
    "        f\"Площадь полной поверхности = {square}\",\n",
    "        sep = \"\\n\"\n",
    "    )\n",
    "\n",
    "    del square\n",
    "    del volume"
   ],
   "metadata": {
    "collapsed": false
   }
  },
  {
   "cell_type": "code",
   "execution_count": null,
   "outputs": [],
   "source": [
    "# 17.05.2023\n",
    "# Step 8\n",
    "\n",
    "# Function\n",
    "def function_value(list_numbers: list[int]) -> None:\n",
    "    assert isinstance(list_numbers[0], int), \"Значение должно быть целочисленным\"\n",
    "    assert isinstance(list_numbers[1], int), \"Значение должно быть целочисленным\"\n",
    "\n",
    "    a, b = list_numbers[0], list_numbers[1]\n",
    "\n",
    "    return 3 * (a + b) ** 3 + 275 * b ** 2 - 127 * a - 41\n",
    "\n",
    "# Tests\n",
    "def test_function_value() -> None:\n",
    "    assert function_value([1, 1]) == 131\n",
    "    assert function_value([1, 0]) == -165\n",
    "    assert function_value([0, 1]) == 237\n",
    "\n",
    "# Main Program\n",
    "if __name__ == '__main__':\n",
    "    test_function_value()\n",
    "\n",
    "    print(function_value([3, 1]))"
   ],
   "metadata": {
    "collapsed": false
   }
  },
  {
   "cell_type": "code",
   "execution_count": null,
   "outputs": [],
   "source": [
    "# 17.05.2023\n",
    "# Step 9\n",
    "\n",
    "# Function\n",
    "def next_and_previous(number: int) -> tuple[int, int, int]:\n",
    "    assert isinstance(number, int), \"Значение должно быть целочисленным\"\n",
    "\n",
    "    return number, number + 1, number - 1\n",
    "\n",
    "# Tests\n",
    "def test_next_and_previous() -> None:\n",
    "    assert next_and_previous(3) == (3, 4, 2)\n",
    "    assert next_and_previous(15) == (15, 16, 14)\n",
    "    assert next_and_previous(-41) == (-41, -40, -42)\n",
    "\n",
    "# Main Program\n",
    "if __name__ == '__main__':\n",
    "    test_next_and_previous()\n",
    "    current_number, next_number, previous_number = next_and_previous(13)\n",
    "\n",
    "    print(\n",
    "        f\"Следующее за числом {current_number} число: {next_number}\",\n",
    "        f\"Для числа {current_number} предыдущее число: {previous_number}\",\n",
    "        sep = \"\\n\"\n",
    "    )\n",
    "\n",
    "    del current_number\n",
    "    del next_number\n",
    "    del previous_number"
   ],
   "metadata": {
    "collapsed": false
   }
  },
  {
   "cell_type": "code",
   "execution_count": null,
   "outputs": [],
   "source": [
    "# 17.05.2023\n",
    "# Step 10\n",
    "\n",
    "# Function\n",
    "def purchase_price(elements_costs: list[int]) -> int:\n",
    "    assert isinstance(elements_costs[0], int), \"Значение должно быть целочисленным\"\n",
    "    assert isinstance(elements_costs[1], int), \"Значение должно быть целочисленным\"\n",
    "    assert isinstance(elements_costs[2], int), \"Значение должно быть целочисленным\"\n",
    "    assert isinstance(elements_costs[3], int), \"Значение должно быть целочисленным\"\n",
    "\n",
    "    return sum(elements_costs) * 3\n",
    "\n",
    "# Tests\n",
    "def test_purchase_price() -> None:\n",
    "    assert purchase_price([9900, 55600, 3999, 2990]) == 217467\n",
    "    assert purchase_price([15700, 80550, 12050, 5890]) == 342570\n",
    "    assert purchase_price([44990, 123300, 19600, 8990]) == 590640\n",
    "\n",
    "# Main Program\n",
    "if __name__ == '__main__':\n",
    "    test_purchase_price()\n",
    "\n",
    "    print(purchase_price([1, 1, 1, 1]))"
   ],
   "metadata": {
    "collapsed": false
   }
  },
  {
   "cell_type": "code",
   "execution_count": null,
   "outputs": [],
   "source": [
    "# 18.05.2023\n",
    "# Step 11\n",
    "\n",
    "# Function\n",
    "def arithmetic_operations(list_numbers: list[int]) -> tuple[int, int, int]:\n",
    "    assert isinstance(list_numbers[0], int), \"Значение должно быть целочисленным\"\n",
    "    assert isinstance(list_numbers[1], int), \"Значение должно быть целочисленным\"\n",
    "\n",
    "    return list_numbers[0] + list_numbers[1], list_numbers[0] - list_numbers[1], list_numbers[0] * list_numbers[1]\n",
    "\n",
    "# Tests\n",
    "def test_arithmetic_operations() -> None:\n",
    "    assert arithmetic_operations([1, 2]) == (3, -1, 2)\n",
    "    assert arithmetic_operations([7, 16]) == (23, -9, 112)\n",
    "    assert arithmetic_operations([10, 10]) == (20, 0, 100)\n",
    "\n",
    "# Main Program\n",
    "if __name__ == '__main__':\n",
    "    test_arithmetic_operations()\n",
    "\n",
    "    list_numbers = [5, 8]\n",
    "    sum_res, diff_res, mult_res = arithmetic_operations(list_numbers)\n",
    "\n",
    "    print(\n",
    "        f\"{list_numbers[0]} + {list_numbers[1]} = {sum_res}\",\n",
    "        f\"{list_numbers[0]} - {list_numbers[1]} = {diff_res}\",\n",
    "        f\"{list_numbers[0]} * {list_numbers[1]} = {mult_res}\",\n",
    "        sep = \"\\n\"\n",
    "    )\n",
    "\n",
    "    del diff_res\n",
    "    del list_numbers\n",
    "    del mult_res\n",
    "    del sum_res"
   ],
   "metadata": {
    "collapsed": false
   }
  },
  {
   "cell_type": "code",
   "execution_count": null,
   "outputs": [],
   "source": [
    "# 18.05.2023\n",
    "# Step 12\n",
    "\n",
    "# Function\n",
    "def arithmetic_progression(a: int, d: int, n: int) -> int:\n",
    "    assert isinstance(a, int)\n",
    "    assert isinstance(d, int)\n",
    "    assert isinstance(n, int)\n",
    "\n",
    "    return a + d * (n - 1)\n",
    "\n",
    "# Tests\n",
    "def test_arithmetic_progression() -> None:\n",
    "    assert arithmetic_progression(1, 1, 10) == 10\n",
    "    assert arithmetic_progression(-1, 1, 2) == 0\n",
    "    assert arithmetic_progression(100, 50, 1) == 100\n",
    "\n",
    "# Main Program\n",
    "if __name__ == '__main__':\n",
    "    test_arithmetic_progression()\n",
    "\n",
    "    print(arithmetic_progression(1, 2, 3))"
   ],
   "metadata": {
    "collapsed": false
   }
  },
  {
   "cell_type": "code",
   "execution_count": null,
   "outputs": [],
   "source": [
    "# 18.05.2023\n",
    "# Step 13\n",
    "\n",
    "# Function\n",
    "def divide_and_conquer(number: int) -> list[int]:\n",
    "    assert isinstance(number, int)\n",
    "\n",
    "    return [number * i for i in range(1, 6)]\n",
    "\n",
    "# Tests\n",
    "def test_divide_and_conquer() -> None:\n",
    "    assert divide_and_conquer(3) == [3, 6, 9, 12, 15]\n",
    "    assert divide_and_conquer(13) == [13, 26, 39, 52, 65]\n",
    "    assert divide_and_conquer(23) == [23, 46, 69, 92, 115]\n",
    "\n",
    "# Main Program\n",
    "if __name__ == '__main__':\n",
    "    test_divide_and_conquer()\n",
    "\n",
    "    print(*divide_and_conquer(7), sep = \"---\")"
   ],
   "metadata": {
    "collapsed": false
   }
  },
  {
   "cell_type": "markdown",
   "source": [
    "## 2.5 Целочисленная арифметика. Часть 2"
   ],
   "metadata": {
    "collapsed": false
   }
  },
  {
   "cell_type": "code",
   "execution_count": null,
   "outputs": [],
   "source": [
    "# 18.05.2023\n",
    "# Step 6\n",
    "\n",
    "# Function\n",
    "def geometric_progression(b: int, q: int, n: int) -> int:\n",
    "    assert isinstance(b, int)\n",
    "    assert isinstance(q, int)\n",
    "    assert isinstance(n, int)\n",
    "\n",
    "    return b * q ** (n - 1)\n",
    "\n",
    "# Tests\n",
    "def test_geometric_progression() -> None:\n",
    "    assert geometric_progression(1, 2, 5) == 16\n",
    "    assert geometric_progression(10, -2, 6) == -320\n",
    "    assert geometric_progression(-2, 10, 3) == -200\n",
    "    assert geometric_progression(1, 1, 100001) == 1\n",
    "    assert geometric_progression(15, -3, 5) == 1215\n",
    "\n",
    "# Main Program\n",
    "if __name__ == '__main__':\n",
    "    test_geometric_progression()\n",
    "\n",
    "    print(geometric_progression(3, 5, 7))"
   ],
   "metadata": {
    "collapsed": false
   }
  },
  {
   "cell_type": "code",
   "execution_count": null,
   "outputs": [],
   "source": [
    "# 18.05.2023\n",
    "# Step 7\n",
    "\n",
    "# Function\n",
    "def distance_in_meters(centimetre: int) -> int:\n",
    "    assert isinstance(centimetre, int)\n",
    "\n",
    "    return centimetre // 100\n",
    "\n",
    "# Tests\n",
    "def test_distance_in_meters() -> None:\n",
    "    assert distance_in_meters(345) == 3\n",
    "    assert distance_in_meters(100) == 1\n",
    "    assert distance_in_meters(89) == 0\n",
    "    assert distance_in_meters(9_330) == 93\n",
    "    assert distance_in_meters(4_421_345) == 44_213\n",
    "\n",
    "# Main Program\n",
    "if __name__ == '__main__':\n",
    "    test_distance_in_meters()\n",
    "\n",
    "    print(distance_in_meters(256))"
   ],
   "metadata": {
    "collapsed": false
   }
  },
  {
   "cell_type": "code",
   "execution_count": null,
   "outputs": [],
   "source": [
    "# 20.05.2023\n",
    "# Step 8\n",
    "\n",
    "# Function\n",
    "def mandarins(schoolboys: int, mandarins_count: int) -> tuple[int, int]:\n",
    "    assert isinstance(schoolboys, int)\n",
    "    assert isinstance(mandarins_count, int)\n",
    "\n",
    "    return mandarins_count // schoolboys, mandarins_count % schoolboys\n",
    "\n",
    "# Tests\n",
    "def test_mandarins() -> None:\n",
    "    assert mandarins(3, 6) == (2, 0)\n",
    "    assert mandarins(12, 6) == (0, 6)\n",
    "    assert mandarins(7, 4) == (0, 4)\n",
    "    assert mandarins(5, 60) == (12, 0)\n",
    "    assert mandarins(6, 6) == (1, 0)\n",
    "\n",
    "# Main Program\n",
    "if __name__ == '__main__':\n",
    "    test_mandarins()\n",
    "\n",
    "    print(*mandarins(3, 3), sep = \"\\n\")"
   ],
   "metadata": {
    "collapsed": false
   }
  },
  {
   "cell_type": "code",
   "execution_count": null,
   "outputs": [],
   "source": [
    "# 20.05.2023\n",
    "# Step 9\n",
    "\n",
    "# Function\n",
    "def inevitability(universe_population: int) -> int:\n",
    "    assert isinstance(universe_population, int)\n",
    "\n",
    "    return universe_population // 2 + universe_population % 2\n",
    "\n",
    "# Tests\n",
    "def test_inevitability() -> None:\n",
    "    assert inevitability(99) == 50\n",
    "    assert inevitability(1_132) == 566\n",
    "    assert inevitability(1) == 1\n",
    "    assert inevitability(2) == 1\n",
    "    assert inevitability(124_234_413_532) == 62_117_206_766\n",
    "\n",
    "# Main Program\n",
    "if __name__ == '__main__':\n",
    "    test_inevitability()\n",
    "\n",
    "    print(inevitability(100))"
   ],
   "metadata": {
    "collapsed": false
   }
  },
  {
   "cell_type": "code",
   "execution_count": null,
   "outputs": [],
   "source": [
    "# 20.05.2023\n",
    "# Step 10\n",
    "\n",
    "# Function\n",
    "def compartment_number(number: int) -> int:\n",
    "    assert isinstance(number, int)\n",
    "\n",
    "    return ((number - 1) // 4) + 1\n",
    "\n",
    "# Tests\n",
    "def test_compartment_number() -> None:\n",
    "    assert compartment_number(1) == 1\n",
    "    assert compartment_number(5) == 2\n",
    "    assert compartment_number(9) == 3\n",
    "    assert compartment_number(13) == 4\n",
    "    assert compartment_number(17) == 5\n",
    "    assert compartment_number(21) == 6\n",
    "    assert compartment_number(25) == 7\n",
    "    assert compartment_number(29) == 8\n",
    "    assert compartment_number(33) == 9\n",
    "\n",
    "# Main Program\n",
    "if __name__ == '__main__':\n",
    "    test_compartment_number()\n",
    "\n",
    "    print(compartment_number(13))"
   ],
   "metadata": {
    "collapsed": false
   }
  },
  {
   "cell_type": "code",
   "execution_count": null,
   "outputs": [],
   "source": [
    "# 20.05.2023\n",
    "# Step 11\n",
    "\n",
    "# Function\n",
    "def recalculating_time_interval(minutes_count: int) -> tuple[int, int]:\n",
    "    assert isinstance(minutes_count, int)\n",
    "\n",
    "    return minutes_count // 60, minutes_count % 60\n",
    "\n",
    "# Tests\n",
    "def test_recalculating_time_interval() -> None:\n",
    "    assert recalculating_time_interval(150) == (2, 30)\n",
    "    assert recalculating_time_interval(50) == (0, 50)\n",
    "    assert recalculating_time_interval(240) == (4, 0)\n",
    "    assert recalculating_time_interval(400) == (6, 40)\n",
    "    assert recalculating_time_interval(90) == (1, 30)\n",
    "\n",
    "# Main Program\n",
    "if __name__ == '__main__':\n",
    "    test_recalculating_time_interval()\n",
    "    minutes: int = 150\n",
    "    res_hours, res_minutes = recalculating_time_interval(minutes)\n",
    "\n",
    "    print(f\"{minutes} мин - это {res_hours} час {res_minutes} минут.\")\n",
    "\n",
    "    del minutes\n",
    "    del res_hours\n",
    "    del res_minutes"
   ],
   "metadata": {
    "collapsed": false
   }
  },
  {
   "cell_type": "code",
   "execution_count": null,
   "outputs": [],
   "source": [
    "# 20.05.2023\n",
    "# Step 13\n",
    "\n",
    "# Function\n",
    "def three_digit_number(number: int) -> tuple[int, int]:\n",
    "    assert isinstance(number, int)\n",
    "    assert (number > 0) == True\n",
    "\n",
    "    a: int = number // 100 % 10\n",
    "    b: int = number // 10 % 10\n",
    "    c: int = number // 1 % 10\n",
    "\n",
    "    return a + b + c, a * b * c\n",
    "\n",
    "# Tests\n",
    "def test_three_digit_number() -> None:\n",
    "    assert three_digit_number(123) == (6, 6)\n",
    "    assert three_digit_number(333) == (9, 27)\n",
    "    assert three_digit_number(101) == (2, 0)\n",
    "    assert three_digit_number(100) == (1, 0)\n",
    "    assert three_digit_number(999) == (27, 729)\n",
    "\n",
    "# Main Program\n",
    "if __name__ == '__main__':\n",
    "    test_three_digit_number()\n",
    "    sum_of_numbers, mult_of_numbers = three_digit_number(123)\n",
    "\n",
    "    print(\n",
    "        f\"Сумма цифр = {sum_of_numbers}\",\n",
    "        f\"Произведение цифр = {mult_of_numbers}\",\n",
    "        sep = \"\\n\"\n",
    "    )\n",
    "\n",
    "    del mult_of_numbers\n",
    "    del sum_of_numbers"
   ],
   "metadata": {
    "collapsed": false
   }
  },
  {
   "cell_type": "code",
   "execution_count": null,
   "outputs": [],
   "source": [
    "# 20.05.2023\n",
    "# Step 14\n",
    "\n",
    "from itertools import permutations\n",
    "\n",
    "# Function\n",
    "def permutation_of_digits(number: int) -> list[str]:\n",
    "    assert isinstance(number, int)\n",
    "    assert (99 < number < 1000) == True\n",
    "\n",
    "    return [\"\".join(j) for j in [i for i in permutations(str(number))]]\n",
    "\n",
    "# Tests\n",
    "def test_permutation_of_digits() -> None:\n",
    "    assert permutation_of_digits(123) == [\"123\", \"132\", \"213\", \"231\", \"312\", \"321\"]\n",
    "    assert permutation_of_digits(987) == [\"987\", \"978\", \"897\", \"879\", \"798\", \"789\"]\n",
    "    assert permutation_of_digits(658) == [\"658\", \"685\", \"568\", \"586\", \"865\", \"856\"]\n",
    "\n",
    "# Main Program\n",
    "if __name__ == '__main__':\n",
    "    test_permutation_of_digits()\n",
    "\n",
    "    print(*permutation_of_digits(123), sep = \"\\n\")"
   ],
   "metadata": {
    "collapsed": false
   }
  },
  {
   "cell_type": "code",
   "execution_count": null,
   "outputs": [],
   "source": [
    "# 20.05.2023\n",
    "# Step 15\n",
    "\n",
    "# Function\n",
    "def four_digit_number(number: int) -> tuple[int, int, int, int]:\n",
    "    assert isinstance(number, int)\n",
    "    assert (1000 <= number <= 9999) == True\n",
    "\n",
    "    a: int = number // 1000 % 10\n",
    "    b: int = number // 100 % 10\n",
    "    c: int = number // 10 % 10\n",
    "    d: int = number // 1 % 10\n",
    "\n",
    "    return a, b, c, d\n",
    "\n",
    "# Tests\n",
    "def test_four_digit_number() -> None:\n",
    "    assert four_digit_number(3281) == (3, 2, 8, 1)\n",
    "    assert four_digit_number(1000) == (1, 0, 0, 0)\n",
    "    assert four_digit_number(9999) == (9, 9, 9, 9)\n",
    "    assert four_digit_number(7564) == (7, 5, 6, 4)\n",
    "    assert four_digit_number(9080) == (9, 0, 8, 0)\n",
    "\n",
    "# Main Program\n",
    "if __name__ == '__main__':\n",
    "    test_four_digit_number()\n",
    "\n",
    "    number = 1234\n",
    "    a, b, c, d = four_digit_number(number)\n",
    "\n",
    "    print(\n",
    "        f\"Цифра в позиции тысяч равна {a}\",\n",
    "        f\"Цифра в позиции сотен равна {b}\",\n",
    "        f\"Цифра в позиции десятков равна {c}\",\n",
    "        f\"Цифра в позиции единиц равна {d}\",\n",
    "        sep = \"\\n\"\n",
    "    )\n",
    "\n",
    "    del a\n",
    "    del b\n",
    "    del c\n",
    "    del d\n",
    "    del number"
   ],
   "metadata": {
    "collapsed": false
   }
  },
  {
   "cell_type": "markdown",
   "source": [
    "# 3. Итоговая работа на ввод-вывод данных"
   ],
   "metadata": {
    "collapsed": false
   }
  },
  {
   "cell_type": "markdown",
   "source": [
    "## 3.1 Часть 1"
   ],
   "metadata": {
    "collapsed": false
   }
  },
  {
   "cell_type": "code",
   "execution_count": null,
   "outputs": [],
   "source": [
    "pass"
   ],
   "metadata": {
    "collapsed": false
   }
  },
  {
   "cell_type": "markdown",
   "source": [
    "## 3.2 Часть 2"
   ],
   "metadata": {
    "collapsed": false
   }
  },
  {
   "cell_type": "code",
   "execution_count": 9,
   "outputs": [
    {
     "name": "stdout",
     "output_type": "stream",
     "text": [
      "*****************\n",
      "*               *\n",
      "*               *\n",
      "*****************\n"
     ]
    }
   ],
   "source": [
    "# 28.05.2023\n",
    "# Step 1\n",
    "\n",
    "# Function\n",
    "def star_rectangle() -> list[str]:\n",
    "\n",
    "    return [\n",
    "        \"*\" * 17,\n",
    "        \"*\" + \" \" * 15 + \"*\",\n",
    "        \"*\" + \" \" * 15 + \"*\",\n",
    "        \"*\" * 17\n",
    "    ]\n",
    "\n",
    "# Tests\n",
    "def test_star_rectangle() -> None:\n",
    "    assert star_rectangle() == ['*****************', '*               *', '*               *', '*****************']\n",
    "\n",
    "# Main Program\n",
    "if __name__ == '__main__':\n",
    "    test_star_rectangle()\n",
    "\n",
    "    print(*star_rectangle(), sep = \"\\n\")"
   ],
   "metadata": {
    "collapsed": false,
    "ExecuteTime": {
     "end_time": "2023-05-28T09:08:03.201989Z",
     "start_time": "2023-05-28T09:08:03.192313Z"
    }
   }
  },
  {
   "cell_type": "code",
   "execution_count": 12,
   "outputs": [
    {
     "name": "stdout",
     "output_type": "stream",
     "text": [
      "Квадрат суммы 3 и 2 равен 25\n",
      "Сумма квадратов 3 и 2 равна 13\n"
     ]
    }
   ],
   "source": [
    "# 28.05.2023\n",
    "# Step 2\n",
    "\n",
    "# Function\n",
    "def sum_of_square_vs_square_of_sum(a: int, b: int) -> tuple[int, int]:\n",
    "    assert isinstance(a, int)\n",
    "    assert isinstance(b, int)\n",
    "\n",
    "    return (a + b) ** 2, a ** 2 + b ** 2\n",
    "\n",
    "# Tests\n",
    "def test_sum_of_square_vs_square_of_sum() -> None:\n",
    "    assert sum_of_square_vs_square_of_sum(3, 2) == (25, 13)\n",
    "    assert sum_of_square_vs_square_of_sum(-5, 1) == (16, 26)\n",
    "    assert sum_of_square_vs_square_of_sum(17, 0) == (289, 289)\n",
    "    assert sum_of_square_vs_square_of_sum(0, 25) == (625, 625)\n",
    "    assert sum_of_square_vs_square_of_sum(10, 10) == (400, 200)\n",
    "\n",
    "# Main Program\n",
    "if __name__ == '__main__':\n",
    "    test_sum_of_square_vs_square_of_sum()\n",
    "    number_one: int = 3\n",
    "    number_two: int = 2\n",
    "\n",
    "    result = sum_of_square_vs_square_of_sum(number_one, number_two)\n",
    "\n",
    "    print(\n",
    "        f\"Квадрат суммы {number_one} и {number_two} равен {result[0]}\",\n",
    "        f\"Сумма квадратов {number_one} и {number_two} равна {result[1]}\",\n",
    "        sep = \"\\n\"\n",
    "    )"
   ],
   "metadata": {
    "collapsed": false,
    "ExecuteTime": {
     "end_time": "2023-05-28T09:14:34.728113Z",
     "start_time": "2023-05-28T09:14:32.733843Z"
    }
   }
  },
  {
   "cell_type": "code",
   "execution_count": 14,
   "outputs": [
    {
     "name": "stdout",
     "output_type": "stream",
     "text": [
      "82\n"
     ]
    }
   ],
   "source": [
    "# 28.05.2023\n",
    "# Step 3\n",
    "\n",
    "# Function\n",
    "def big_number(a: int, b: int, c: int, d: int) -> None:\n",
    "    assert isinstance(a, int)\n",
    "    assert isinstance(b, int)\n",
    "    assert isinstance(c, int)\n",
    "    assert isinstance(d, int)\n",
    "\n",
    "    return a ** b + c ** d\n",
    "\n",
    "# Tests\n",
    "def test_big_number() -> None:\n",
    "    assert big_number(9, 29, 7, 27) == 4710194409608608369201743232\n",
    "    assert big_number(2, 3, 2, 5) == 40\n",
    "    assert big_number(1, 1, 1, 1) == 2\n",
    "    assert big_number(7, 8, 9, 10) == 3492549202\n",
    "    assert big_number(50, 5, 100, 30) == 1000000000000000000000000000000000000000000000000000312500000\n",
    "\n",
    "# Main Program\n",
    "if __name__ == '__main__':\n",
    "    test_big_number()\n",
    "\n",
    "    print(big_number(1, 2, 3, 4))"
   ],
   "metadata": {
    "collapsed": false,
    "ExecuteTime": {
     "end_time": "2023-05-28T09:18:28.296051Z",
     "start_time": "2023-05-28T09:18:28.266838Z"
    }
   }
  },
  {
   "cell_type": "code",
   "execution_count": 18,
   "outputs": [
    {
     "name": "stdout",
     "output_type": "stream",
     "text": [
      "246\n"
     ]
    }
   ],
   "source": [
    "# 28.05.2023\n",
    "# Step 4\n",
    "\n",
    "# Function\n",
    "def reproduction_number(number: int) -> int:\n",
    "    assert isinstance(number, int)\n",
    "\n",
    "    return number + int(str(number) * 2) + int(str(number) * 3)\n",
    "\n",
    "# Tests\n",
    "def test_reproduction_number() -> None:\n",
    "    assert reproduction_number(1) == 123\n",
    "    assert reproduction_number(3) == 369\n",
    "    assert reproduction_number(5) == 615\n",
    "    assert reproduction_number(7) == 861\n",
    "    assert reproduction_number(9) == 1107\n",
    "\n",
    "# Main Program\n",
    "if __name__ == '__main__':\n",
    "    test_reproduction_number()\n",
    "\n",
    "    print(reproduction_number(2))"
   ],
   "metadata": {
    "collapsed": false,
    "ExecuteTime": {
     "end_time": "2023-05-28T09:24:20.466816Z",
     "start_time": "2023-05-28T09:24:20.442708Z"
    }
   }
  },
  {
   "cell_type": "markdown",
   "source": [
    "# 4. Условный оператор"
   ],
   "metadata": {
    "collapsed": false
   }
  },
  {
   "cell_type": "markdown",
   "source": [
    "## 4.1 Выбор из двух"
   ],
   "metadata": {
    "collapsed": false
   }
  },
  {
   "cell_type": "code",
   "execution_count": 33,
   "outputs": [
    {
     "name": "stdout",
     "output_type": "stream",
     "text": [
      "Пароль принят\n"
     ]
    }
   ],
   "source": [
    "# 28.05.2023\n",
    "# Step 4\n",
    "\n",
    "# Function\n",
    "def password(pswrd: str, rpt_pswrd: str) -> str:\n",
    "    assert isinstance(pswrd, str)\n",
    "    assert isinstance(rpt_pswrd, str)\n",
    "\n",
    "    return \"Пароль принят\" if pswrd == rpt_pswrd else \"Пароль не принят\"\n",
    "\n",
    "# Tests\n",
    "def test_password() -> None:\n",
    "    assert password(\"qwerty\", \"qwerty\") == \"Пароль принят\"\n",
    "    assert password(\"qwerty\", \"Qwerty\") == \"Пароль не принят\"\n",
    "    assert password(\"PythonROCKS\", \"PythonROCKS\") == \"Пароль принят\"\n",
    "    assert password(\"123456789\", \"12345678\") == \"Пароль не принят\"\n",
    "    assert password(\"Python2\", \"Python3\") == \"Пароль не принят\"\n",
    "\n",
    "# Main Program\n",
    "if __name__ == '__main__':\n",
    "    test_password()\n",
    "\n",
    "    print(password(\"12345\", \"12345\"))"
   ],
   "metadata": {
    "collapsed": false,
    "ExecuteTime": {
     "end_time": "2023-05-28T09:46:30.076065Z",
     "start_time": "2023-05-28T09:46:30.045758Z"
    }
   }
  },
  {
   "cell_type": "code",
   "execution_count": 34,
   "outputs": [
    {
     "name": "stdout",
     "output_type": "stream",
     "text": [
      "Нечетное\n"
     ]
    }
   ],
   "source": [
    "# 28.05.2023\n",
    "# Step 5\n",
    "\n",
    "# Function\n",
    "def even_or_odd(number: int) -> str:\n",
    "    assert isinstance(number, int)\n",
    "\n",
    "    return \"Четное\" if number % 2 == 0 else \"Нечетное\"\n",
    "\n",
    "# Tests\n",
    "def test_even_or_odd() -> None:\n",
    "    assert even_or_odd(10) == \"Четное\"\n",
    "    assert even_or_odd(17) == \"Нечетное\"\n",
    "    assert even_or_odd(0) == \"Четное\"\n",
    "    assert even_or_odd(-19) == \"Нечетное\"\n",
    "    assert even_or_odd(1) == \"Нечетное\"\n",
    "\n",
    "# Main Program\n",
    "if __name__ == '__main__':\n",
    "    test_even_or_odd()\n",
    "\n",
    "    print(even_or_odd(3))"
   ],
   "metadata": {
    "collapsed": false,
    "ExecuteTime": {
     "end_time": "2023-05-28T10:13:22.825869Z",
     "start_time": "2023-05-28T10:13:22.822667Z"
    }
   }
  },
  {
   "cell_type": "code",
   "execution_count": 49,
   "outputs": [
    {
     "name": "stdout",
     "output_type": "stream",
     "text": [
      "ДА\n"
     ]
    }
   ],
   "source": [
    "# 28.05.2023\n",
    "# Step 6\n",
    "\n",
    "# Function\n",
    "def ratio(number: int) -> str:\n",
    "    assert isinstance(number, int)\n",
    "\n",
    "    a: int = number // 1000 % 10\n",
    "    b: int = number // 100 % 10\n",
    "    c: int = number // 10 % 10\n",
    "    d: int = number // 1 % 10\n",
    "\n",
    "    return \"ДА\" if (a + d) == (b - c) else \"НЕТ\"\n",
    "\n",
    "# Tests\n",
    "def test_ratio() -> None:\n",
    "    assert ratio(1614) == \"ДА\"\n",
    "    assert ratio(1234) == \"НЕТ\"\n",
    "    assert ratio(7911) == \"ДА\"\n",
    "    assert ratio(9248) == \"НЕТ\"\n",
    "    assert ratio(4840) == \"ДА\"\n",
    "\n",
    "# Main Program\n",
    "if __name__ == '__main__':\n",
    "    test_ratio()\n",
    "\n",
    "    print(ratio(1614))"
   ],
   "metadata": {
    "collapsed": false,
    "ExecuteTime": {
     "end_time": "2023-05-28T10:48:49.783861Z",
     "start_time": "2023-05-28T10:48:49.716926Z"
    }
   }
  },
  {
   "cell_type": "code",
   "execution_count": 50,
   "outputs": [
    {
     "name": "stdout",
     "output_type": "stream",
     "text": [
      "Доступ разрешен\n"
     ]
    }
   ],
   "source": [
    "# 28.05.2023\n",
    "# Step 7\n",
    "\n",
    "# Function\n",
    "def roskomnadzor(age: int) -> str:\n",
    "    assert isinstance(age, int)\n",
    "\n",
    "    return \"Доступ разрешен\" if age >= 18 else \"Доступ запрещен\"\n",
    "\n",
    "# Tests\n",
    "def test_roskomnadzor() -> None:\n",
    "    assert roskomnadzor(16) == \"Доступ запрещен\"\n",
    "    assert roskomnadzor(18) == \"Доступ разрешен\"\n",
    "    assert roskomnadzor(19) == \"Доступ разрешен\"\n",
    "    assert roskomnadzor(35) == \"Доступ разрешен\"\n",
    "    assert roskomnadzor(7) == \"Доступ запрещен\"\n",
    "\n",
    "# Main Program\n",
    "if __name__ == '__main__':\n",
    "    test_roskomnadzor()\n",
    "\n",
    "    print(roskomnadzor(32))"
   ],
   "metadata": {
    "collapsed": false,
    "ExecuteTime": {
     "end_time": "2023-05-28T10:52:39.215478Z",
     "start_time": "2023-05-28T10:52:39.062838Z"
    }
   }
  },
  {
   "cell_type": "code",
   "execution_count": 52,
   "outputs": [
    {
     "name": "stdout",
     "output_type": "stream",
     "text": [
      "YES\n"
     ]
    }
   ],
   "source": [
    "# 28.05.2023\n",
    "# Step 8\n",
    "\n",
    "# Function\n",
    "def arithmetic_progression(a: int, b: int, c: int) -> str:\n",
    "    assert isinstance(a, int)\n",
    "    assert isinstance(b, int)\n",
    "    assert isinstance(c, int)\n",
    "\n",
    "    return \"YES\" if (abs(a - b)) == (abs(b - c)) else \"NO\"\n",
    "\n",
    "# Tests\n",
    "def test_arithmetic_progression() -> None:\n",
    "    assert arithmetic_progression(1, 2, 3) == \"YES\"\n",
    "    assert arithmetic_progression(1, 2, 4) == \"NO\"\n",
    "    assert arithmetic_progression(2, 4, 8) == \"NO\"\n",
    "    assert arithmetic_progression(10, 5, 0) == \"YES\"\n",
    "    assert arithmetic_progression(25, 125, 224) == \"NO\"\n",
    "\n",
    "# Main Program\n",
    "if __name__ == '__main__':\n",
    "    test_arithmetic_progression()\n",
    "\n",
    "    print(arithmetic_progression(2, 4, 6))"
   ],
   "metadata": {
    "collapsed": false,
    "ExecuteTime": {
     "end_time": "2023-05-28T11:12:20.559137Z",
     "start_time": "2023-05-28T11:12:20.527442Z"
    }
   }
  },
  {
   "cell_type": "code",
   "execution_count": 54,
   "outputs": [
    {
     "name": "stdout",
     "output_type": "stream",
     "text": [
      "1\n"
     ]
    }
   ],
   "source": [
    "# 28.05.2023\n",
    "# Step 9\n",
    "\n",
    "# Function\n",
    "def smallest_of_two_numbers(a: int, b: int) -> int:\n",
    "    assert isinstance(a, int)\n",
    "    assert isinstance(b, int)\n",
    "\n",
    "    return min(a, b)\n",
    "\n",
    "# Tests\n",
    "def test_smallest_of_two_numbers() -> None:\n",
    "    assert smallest_of_two_numbers(8, 11) == 8\n",
    "    assert smallest_of_two_numbers(20, 5) == 5\n",
    "    assert smallest_of_two_numbers(-12, -21) == -21\n",
    "    assert smallest_of_two_numbers(-100, 2) == -100\n",
    "    assert smallest_of_two_numbers(0, 100) == 0\n",
    "\n",
    "# Main Program\n",
    "if __name__ == '__main__':\n",
    "    test_smallest_of_two_numbers()\n",
    "\n",
    "    print(smallest_of_two_numbers(1, 2))"
   ],
   "metadata": {
    "collapsed": false,
    "ExecuteTime": {
     "end_time": "2023-05-28T11:19:03.071979Z",
     "start_time": "2023-05-28T11:19:02.926747Z"
    }
   }
  },
  {
   "cell_type": "code",
   "execution_count": 56,
   "outputs": [
    {
     "name": "stdout",
     "output_type": "stream",
     "text": [
      "2\n"
     ]
    }
   ],
   "source": [
    "# 28.05.2023\n",
    "# Step 10\n",
    "\n",
    "# Function\n",
    "def smallest_of_four_numbers(a: int, b: int, c: int, d: int) -> int:\n",
    "    assert isinstance(a, int)\n",
    "    assert isinstance(b, int)\n",
    "    assert isinstance(c, int)\n",
    "    assert isinstance(d, int)\n",
    "\n",
    "    return min(a, b, c, d)\n",
    "\n",
    "# Tests\n",
    "def test_smallest_of_four_numbers() -> None:\n",
    "    assert smallest_of_four_numbers(1, 2, 3, 4) == 1\n",
    "    assert smallest_of_four_numbers(10, 9, 11, 12) == 9\n",
    "    assert smallest_of_four_numbers(100, 200, 5, 300) == 5\n",
    "    assert smallest_of_four_numbers(2, 2, 3, 4) == 2\n",
    "    assert smallest_of_four_numbers(67, 8, 8, 89) == 8\n",
    "\n",
    "# Main Program\n",
    "if __name__ == '__main__':\n",
    "    test_smallest_of_four_numbers()\n",
    "\n",
    "    print(smallest_of_four_numbers(2, 4, 8, 15))"
   ],
   "metadata": {
    "collapsed": false,
    "ExecuteTime": {
     "end_time": "2023-05-28T11:27:28.315470Z",
     "start_time": "2023-05-28T11:27:28.157382Z"
    }
   }
  },
  {
   "cell_type": "code",
   "execution_count": 65,
   "outputs": [
    {
     "name": "stdout",
     "output_type": "stream",
     "text": [
      "зрелость\n"
     ]
    }
   ],
   "source": [
    "# 28.05.2023\n",
    "# Step 11\n",
    "\n",
    "# Function\n",
    "def age_group(age: int) -> str:\n",
    "    assert isinstance(age, int)\n",
    "\n",
    "    if age <= 13:\n",
    "        return \"детство\"\n",
    "\n",
    "    elif 14 <= age <= 24:\n",
    "        return \"молодость\"\n",
    "\n",
    "    elif 25 <= age <= 59:\n",
    "        return \"зрелость\"\n",
    "\n",
    "    elif age >= 60:\n",
    "        return \"старость\"\n",
    "\n",
    "# Tests\n",
    "def test_age_group() -> None:\n",
    "    assert age_group(4) == \"детство\"\n",
    "    assert age_group(91) == \"старость\"\n",
    "    assert age_group(40) == \"зрелость\"\n",
    "    assert age_group(19) == \"молодость\"\n",
    "    assert age_group(25) == \"зрелость\"\n",
    "\n",
    "# Main Program\n",
    "if __name__ == '__main__':\n",
    "    test_age_group()\n",
    "\n",
    "    print(age_group(32))"
   ],
   "metadata": {
    "collapsed": false,
    "ExecuteTime": {
     "end_time": "2023-05-28T11:43:59.522009Z",
     "start_time": "2023-05-28T11:43:59.478875Z"
    }
   }
  },
  {
   "cell_type": "code",
   "execution_count": 66,
   "outputs": [
    {
     "name": "stdout",
     "output_type": "stream",
     "text": [
      "9\n"
     ]
    }
   ],
   "source": [
    "# 28.05.2023\n",
    "# Step 12\n",
    "\n",
    "# Function\n",
    "def only_plus(a: int, b: int, c: int) -> int:\n",
    "    assert isinstance(a, int)\n",
    "    assert isinstance(b, int)\n",
    "    assert isinstance(c, int)\n",
    "\n",
    "    sum_of_num: int = 0\n",
    "\n",
    "    for num in [a, b, c]:\n",
    "        if num > 0:\n",
    "            sum_of_num += num\n",
    "\n",
    "    return sum_of_num\n",
    "\n",
    "# Tests\n",
    "def test_only_plus() -> None:\n",
    "    assert only_plus(4, -22, 1) == 5\n",
    "    assert only_plus(33, 55, 63) == 151\n",
    "    assert only_plus(-1, 37, 62) == 99\n",
    "    assert only_plus(-31, -11, 5) == 5\n",
    "    assert only_plus(-4, -7, -18) == 0\n",
    "\n",
    "# Main Program\n",
    "if __name__ == '__main__':\n",
    "    test_only_plus()\n",
    "\n",
    "    print(only_plus(3, 6, -1))"
   ],
   "metadata": {
    "collapsed": false,
    "ExecuteTime": {
     "end_time": "2023-05-28T11:55:50.560699Z",
     "start_time": "2023-05-28T11:55:50.516038Z"
    }
   }
  },
  {
   "cell_type": "markdown",
   "source": [
    "## 4.2 Логические операции"
   ],
   "metadata": {
    "collapsed": false
   }
  },
  {
   "cell_type": "markdown",
   "source": [
    "## 4.3 Вложенные и каскадные условия"
   ],
   "metadata": {
    "collapsed": false
   }
  },
  {
   "cell_type": "code",
   "execution_count": null,
   "outputs": [],
   "source": [
    "# 28.05.2023\n",
    "# Step\n",
    "\n",
    "# Function\n",
    "def () -> None:\n",
    "    assert\n",
    "\n",
    "    return\n",
    "\n",
    "# Tests\n",
    "def test_() -> None:\n",
    "    assert password() ==\n",
    "    assert password() ==\n",
    "    assert password() ==\n",
    "    assert password() ==\n",
    "    assert password() ==\n",
    "\n",
    "# Main Program\n",
    "if __name__ == '__main__':\n",
    "    test_password()\n",
    "\n",
    "    print(())"
   ],
   "metadata": {
    "collapsed": false
   }
  },
  {
   "cell_type": "markdown",
   "source": [
    "# 5. Итоговая работа на условный оператор"
   ],
   "metadata": {
    "collapsed": false
   }
  },
  {
   "cell_type": "markdown",
   "source": [
    "## 5.1 Задачи на программирование"
   ],
   "metadata": {
    "collapsed": false
   }
  },
  {
   "cell_type": "markdown",
   "source": [
    "# 6. Типы данных"
   ],
   "metadata": {
    "collapsed": false
   }
  },
  {
   "cell_type": "markdown",
   "source": [
    "## 6.1 Числовые типы данных: int, float"
   ],
   "metadata": {
    "collapsed": false
   }
  },
  {
   "cell_type": "markdown",
   "source": [
    "## 6.2 Строковый тип данных"
   ],
   "metadata": {
    "collapsed": false
   }
  },
  {
   "cell_type": "markdown",
   "source": [
    "## 6.3 Модуль math"
   ],
   "metadata": {
    "collapsed": false
   }
  },
  {
   "cell_type": "markdown",
   "source": [
    "# 7. Циклы for и while"
   ],
   "metadata": {
    "collapsed": false
   }
  },
  {
   "cell_type": "markdown",
   "source": [
    "## 7.1 Цикл for"
   ],
   "metadata": {
    "collapsed": false
   }
  },
  {
   "cell_type": "markdown",
   "source": [
    "## 7.2 Цикл for: функция range"
   ],
   "metadata": {
    "collapsed": false
   }
  },
  {
   "cell_type": "markdown",
   "source": [
    "## 7.3 Частые сценарии"
   ],
   "metadata": {
    "collapsed": false
   }
  },
  {
   "cell_type": "markdown",
   "source": [
    "## 7.4 Цикл while"
   ],
   "metadata": {
    "collapsed": false
   }
  },
  {
   "cell_type": "markdown",
   "source": [
    "## 7.5 Цикл while: обработка цифр числа"
   ],
   "metadata": {
    "collapsed": false
   }
  },
  {
   "cell_type": "markdown",
   "source": [
    "## 7.6 break, continue и else"
   ],
   "metadata": {
    "collapsed": false
   }
  },
  {
   "cell_type": "markdown",
   "source": [
    "## 7.7 Поиск ошибок и ревью кода"
   ],
   "metadata": {
    "collapsed": false
   }
  },
  {
   "cell_type": "markdown",
   "source": [
    "## 7.8 Вложенные циклы. Часть 1"
   ],
   "metadata": {
    "collapsed": false
   }
  },
  {
   "cell_type": "markdown",
   "source": [
    "## 7.9 Вложенные циклы. Часть 2"
   ],
   "metadata": {
    "collapsed": false
   }
  },
  {
   "cell_type": "markdown",
   "source": [
    "# 8. Итоговая работа на циклы"
   ],
   "metadata": {
    "collapsed": false
   }
  },
  {
   "cell_type": "markdown",
   "source": [
    "## 8.1 Часть 1"
   ],
   "metadata": {
    "collapsed": false
   }
  },
  {
   "cell_type": "markdown",
   "source": [
    "## 8.2 Часть 2"
   ],
   "metadata": {
    "collapsed": false
   }
  },
  {
   "cell_type": "markdown",
   "source": [
    "# 9. Строковый тип данных"
   ],
   "metadata": {
    "collapsed": false
   }
  },
  {
   "cell_type": "markdown",
   "source": [
    "## 9.1 Индексация"
   ],
   "metadata": {
    "collapsed": false
   }
  },
  {
   "cell_type": "markdown",
   "source": [
    "## 9.2 Срезы"
   ],
   "metadata": {
    "collapsed": false
   }
  },
  {
   "cell_type": "markdown",
   "source": [
    "## 9.3 Методы строк. Часть 1"
   ],
   "metadata": {
    "collapsed": false
   }
  },
  {
   "cell_type": "markdown",
   "source": [
    "## 9.4 Методы строк. Часть 2"
   ],
   "metadata": {
    "collapsed": false
   }
  },
  {
   "cell_type": "markdown",
   "source": [
    "## 9.5 Методы строк. Часть 3"
   ],
   "metadata": {
    "collapsed": false
   }
  },
  {
   "cell_type": "markdown",
   "source": [
    "## 9.6 Строки в памяти компьютера, таблица символов Unicode"
   ],
   "metadata": {
    "collapsed": false
   }
  },
  {
   "cell_type": "markdown",
   "source": [
    "# 10. Итоговая работа на строки"
   ],
   "metadata": {
    "collapsed": false
   }
  },
  {
   "cell_type": "markdown",
   "source": [
    "## 10.1 Часть 1"
   ],
   "metadata": {
    "collapsed": false
   }
  },
  {
   "cell_type": "markdown",
   "source": [
    "## 10.2 Часть 2"
   ],
   "metadata": {
    "collapsed": false
   }
  },
  {
   "cell_type": "markdown",
   "source": [
    "# 11. Списки"
   ],
   "metadata": {
    "collapsed": false
   }
  },
  {
   "cell_type": "markdown",
   "source": [
    "## 11.1 Введение в списки"
   ],
   "metadata": {
    "collapsed": false
   }
  },
  {
   "cell_type": "markdown",
   "source": [
    "## 11.2 Основы работы со списками"
   ],
   "metadata": {
    "collapsed": false
   }
  },
  {
   "cell_type": "markdown",
   "source": [
    "## 11.3 Методы списков. Часть 1"
   ],
   "metadata": {
    "collapsed": false
   }
  },
  {
   "cell_type": "markdown",
   "source": [
    "## 11.4 Вывод элементов списка"
   ],
   "metadata": {
    "collapsed": false
   }
  },
  {
   "cell_type": "markdown",
   "source": [
    "## 11.5 Методы строк: split, join"
   ],
   "metadata": {
    "collapsed": false
   }
  },
  {
   "cell_type": "markdown",
   "source": [
    "## 11.6 Методы списков. Часть 2"
   ],
   "metadata": {
    "collapsed": false
   }
  },
  {
   "cell_type": "markdown",
   "source": [
    "## 11.7 Списочные выражения"
   ],
   "metadata": {
    "collapsed": false
   }
  },
  {
   "cell_type": "markdown",
   "source": [
    "## 11.8 Сортировка списков"
   ],
   "metadata": {
    "collapsed": false
   }
  },
  {
   "cell_type": "markdown",
   "source": [
    "# 12. Итоговая работа на списки"
   ],
   "metadata": {
    "collapsed": false
   }
  },
  {
   "cell_type": "markdown",
   "source": [
    "## 12.1 Часть 1"
   ],
   "metadata": {
    "collapsed": false
   }
  },
  {
   "cell_type": "markdown",
   "source": [
    "## 12.2 Часть 2"
   ],
   "metadata": {
    "collapsed": false
   }
  },
  {
   "cell_type": "markdown",
   "source": [
    "# 13. Функции"
   ],
   "metadata": {
    "collapsed": false
   }
  },
  {
   "cell_type": "markdown",
   "source": [
    "## 13.1 Функции без параметров"
   ],
   "metadata": {
    "collapsed": false
   }
  },
  {
   "cell_type": "markdown",
   "source": [
    "## 13.2 Функции с параметрами"
   ],
   "metadata": {
    "collapsed": false
   }
  },
  {
   "cell_type": "markdown",
   "source": [
    "## 13.3 Локальные и глобальные переменные"
   ],
   "metadata": {
    "collapsed": false
   }
  },
  {
   "cell_type": "markdown",
   "source": [
    "## 13.4 Функции с возвратом значения. Часть 1"
   ],
   "metadata": {
    "collapsed": false
   }
  },
  {
   "cell_type": "markdown",
   "source": [
    "## 13.5 Функции с возвратом значения. Часть 2"
   ],
   "metadata": {
    "collapsed": false
   }
  },
  {
   "cell_type": "markdown",
   "source": [
    "## 13.6 Функции с возвратом значения. Часть 3"
   ],
   "metadata": {
    "collapsed": false
   }
  },
  {
   "cell_type": "markdown",
   "source": [
    "# 14. Итоговая работа на функции"
   ],
   "metadata": {
    "collapsed": false
   }
  },
  {
   "cell_type": "markdown",
   "source": [
    "## 14.1 Задачи на программирование"
   ],
   "metadata": {
    "collapsed": false
   }
  },
  {
   "cell_type": "markdown",
   "source": [
    "# 15. Работа над мини-проектом"
   ],
   "metadata": {
    "collapsed": false
   }
  },
  {
   "cell_type": "markdown",
   "source": [
    "## 15.1 Модуль random"
   ],
   "metadata": {
    "collapsed": false
   }
  },
  {
   "cell_type": "markdown",
   "source": [
    "## 15.2 Числовая угадайка"
   ],
   "metadata": {
    "collapsed": false
   }
  },
  {
   "cell_type": "markdown",
   "source": [
    "## 15.3 Магический шар 8"
   ],
   "metadata": {
    "collapsed": false
   }
  },
  {
   "cell_type": "markdown",
   "source": [
    "## 15.4 Генератор безопасных паролей"
   ],
   "metadata": {
    "collapsed": false
   }
  },
  {
   "cell_type": "markdown",
   "source": [
    "## 15.5 Шифр Цезаря"
   ],
   "metadata": {
    "collapsed": false
   }
  },
  {
   "cell_type": "markdown",
   "source": [
    "## 15.6 Калькулятор систем счисления"
   ],
   "metadata": {
    "collapsed": false
   }
  },
  {
   "cell_type": "markdown",
   "source": [
    "## 15.7 Угадайка слов"
   ],
   "metadata": {
    "collapsed": false
   }
  },
  {
   "cell_type": "markdown",
   "source": [
    "# 16. Заключение"
   ],
   "metadata": {
    "collapsed": false
   }
  },
  {
   "cell_type": "markdown",
   "source": [
    "## 16.1 Заключительный урок"
   ],
   "metadata": {
    "collapsed": false
   }
  },
  {
   "cell_type": "markdown",
   "source": [
    "## 16.2 О команде курса"
   ],
   "metadata": {
    "collapsed": false
   }
  }
 ],
 "metadata": {
  "kernelspec": {
   "display_name": "Python 3",
   "language": "python",
   "name": "python3"
  },
  "language_info": {
   "codemirror_mode": {
    "name": "ipython",
    "version": 2
   },
   "file_extension": ".py",
   "mimetype": "text/x-python",
   "name": "python",
   "nbconvert_exporter": "python",
   "pygments_lexer": "ipython2",
   "version": "2.7.6"
  }
 },
 "nbformat": 4,
 "nbformat_minor": 0
}
